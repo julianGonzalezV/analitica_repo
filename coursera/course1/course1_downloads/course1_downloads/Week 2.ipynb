{
 "cells": [
  {
   "cell_type": "markdown",
   "metadata": {},
   "source": [
    "---\n",
    "\n",
    "_You are currently looking at **version 1.0** of this notebook. To download notebooks and datafiles, as well as get help on Jupyter notebooks in the Coursera platform, visit the [Jupyter Notebook FAQ](https://www.coursera.org/learn/python-data-analysis/resources/0dhYG) course resource._\n",
    "\n",
    "---"
   ]
  },
  {
   "cell_type": "markdown",
   "metadata": {},
   "source": [
    "# The Series Data Structure"
   ]
  },
  {
   "cell_type": "markdown",
   "metadata": {},
   "source": [
    "- Pandas se basa en numpy structures, esto aplanca mejor performance comparado con list library por ejemlo"
   ]
  },
  {
   "cell_type": "code",
   "execution_count": 1,
   "metadata": {},
   "outputs": [],
   "source": [
    "import pandas as pd\n",
    "# para ver la documentacion\n",
    "pd.Series?"
   ]
  },
  {
   "cell_type": "markdown",
   "metadata": {},
   "source": [
    "- vealo como dos columnas de datos , la primera el idice y la segunda el valor en la lista que se pasa"
   ]
  },
  {
   "cell_type": "code",
   "execution_count": 38,
   "metadata": {},
   "outputs": [
    {
     "data": {
      "text/html": [
       "<div>\n",
       "<style scoped>\n",
       "    .dataframe tbody tr th:only-of-type {\n",
       "        vertical-align: middle;\n",
       "    }\n",
       "\n",
       "    .dataframe tbody tr th {\n",
       "        vertical-align: top;\n",
       "    }\n",
       "\n",
       "    .dataframe thead th {\n",
       "        text-align: right;\n",
       "    }\n",
       "</style>\n",
       "<table border=\"1\" class=\"dataframe\">\n",
       "  <thead>\n",
       "    <tr style=\"text-align: right;\">\n",
       "      <th></th>\n",
       "      <th>RECORD_CREATION_DATE</th>\n",
       "      <th>MONTO_DEL_PRESTAMO</th>\n",
       "      <th>RANGO_DEL_CREDITO</th>\n",
       "      <th>DEUDA_EXISTENTE</th>\n",
       "      <th>NOTAS_DEL_AGENTE</th>\n",
       "      <th>UBICACION_DE_LA_OFICINA</th>\n",
       "      <th>PRESTAMO_INCUMPLIDO</th>\n",
       "    </tr>\n",
       "  </thead>\n",
       "  <tbody>\n",
       "    <tr>\n",
       "      <th>0</th>\n",
       "      <td>01May2014:09:24:27.000000</td>\n",
       "      <td>2500</td>\n",
       "      <td>760-779</td>\n",
       "      <td>$10,001-$20,000</td>\n",
       "      <td>NaN</td>\n",
       "      <td>NORTHERN CALIFORNIA</td>\n",
       "      <td>FALSO</td>\n",
       "    </tr>\n",
       "    <tr>\n",
       "      <th>1</th>\n",
       "      <td>01May2014:09:48:36.000000</td>\n",
       "      <td>2500</td>\n",
       "      <td>700-719</td>\n",
       "      <td>$1-$10,000</td>\n",
       "      <td>Ingreso anual neto: $25,400</td>\n",
       "      <td>SOUTHERN CALIFORNIA</td>\n",
       "      <td>FALSO</td>\n",
       "    </tr>\n",
       "    <tr>\n",
       "      <th>3</th>\n",
       "      <td>01May2014:10:31:25.000000</td>\n",
       "      <td>4300</td>\n",
       "      <td>780-799</td>\n",
       "      <td>$1-$10,000</td>\n",
       "      <td>Ingreso anual neto: $191,900</td>\n",
       "      <td>SOUTHERN CALIFORNIA</td>\n",
       "      <td>FALSO</td>\n",
       "    </tr>\n",
       "    <tr>\n",
       "      <th>4</th>\n",
       "      <td>01May2014:10:46:54.000000</td>\n",
       "      <td>20100</td>\n",
       "      <td>780-799</td>\n",
       "      <td>$90,001-$100,000</td>\n",
       "      <td>Pagos mensuales de deuda verificados: $1,700</td>\n",
       "      <td>SOUTHERN CALIFORNIA</td>\n",
       "      <td>VERDADERO</td>\n",
       "    </tr>\n",
       "    <tr>\n",
       "      <th>5</th>\n",
       "      <td>01May2014:11:14:12.000000</td>\n",
       "      <td>6600</td>\n",
       "      <td>760-779</td>\n",
       "      <td>$10,001-$20,000</td>\n",
       "      <td>NaN</td>\n",
       "      <td>NORTHERN CALIFORNIA</td>\n",
       "      <td>FALSO</td>\n",
       "    </tr>\n",
       "    <tr>\n",
       "      <th>7</th>\n",
       "      <td>01May2014:11:53:24.000000</td>\n",
       "      <td>10000</td>\n",
       "      <td>760-779</td>\n",
       "      <td>$20,001-$30,000</td>\n",
       "      <td>NaN</td>\n",
       "      <td>SOUTHERN CALIFORNIA</td>\n",
       "      <td>FALSO</td>\n",
       "    </tr>\n",
       "    <tr>\n",
       "      <th>8</th>\n",
       "      <td>01May2014:12:18:53.000000</td>\n",
       "      <td>8900</td>\n",
       "      <td>740-759</td>\n",
       "      <td>$80,001-$90,000</td>\n",
       "      <td>NaN</td>\n",
       "      <td>NORTHERN CALIFORNIA</td>\n",
       "      <td>FALSO</td>\n",
       "    </tr>\n",
       "    <tr>\n",
       "      <th>9</th>\n",
       "      <td>01May2014:12:32:41.000000</td>\n",
       "      <td>2500</td>\n",
       "      <td>760-779</td>\n",
       "      <td>$30,001-$40,000</td>\n",
       "      <td>Pagos mensuales de deuda verificados: $590...I...</td>\n",
       "      <td>NORTHERN CALIFORNIA</td>\n",
       "      <td>FALSO</td>\n",
       "    </tr>\n",
       "    <tr>\n",
       "      <th>10</th>\n",
       "      <td>01May2014:12:52:26.000000</td>\n",
       "      <td>13000</td>\n",
       "      <td>720-739</td>\n",
       "      <td>$10,001-$20,000</td>\n",
       "      <td>NaN</td>\n",
       "      <td>SOUTHERN CALIFORNIA</td>\n",
       "      <td>FALSO</td>\n",
       "    </tr>\n",
       "    <tr>\n",
       "      <th>11</th>\n",
       "      <td>01May2014:12:59:04.000000</td>\n",
       "      <td>2500</td>\n",
       "      <td>780-799</td>\n",
       "      <td>$10,001-$20,000</td>\n",
       "      <td>Ingreso mensual neto 16,670</td>\n",
       "      <td>NORTHERN CALIFORNIA</td>\n",
       "      <td>VERDADERO</td>\n",
       "    </tr>\n",
       "    <tr>\n",
       "      <th>12</th>\n",
       "      <td>01May2014:13:29:21.000000</td>\n",
       "      <td>11000</td>\n",
       "      <td>700-719</td>\n",
       "      <td>$70,001-$80,000</td>\n",
       "      <td>NaN</td>\n",
       "      <td>NORTHERN CALIFORNIA</td>\n",
       "      <td>FALSO</td>\n",
       "    </tr>\n",
       "    <tr>\n",
       "      <th>14</th>\n",
       "      <td>01May2014:13:57:11.000000</td>\n",
       "      <td>5900</td>\n",
       "      <td>780-799</td>\n",
       "      <td>$20,001-$30,000</td>\n",
       "      <td>NaN</td>\n",
       "      <td>SOUTHERN CALIFORNIA</td>\n",
       "      <td>FALSO</td>\n",
       "    </tr>\n",
       "    <tr>\n",
       "      <th>19</th>\n",
       "      <td>01May2014:15:23:38.000000</td>\n",
       "      <td>3000</td>\n",
       "      <td>740-759</td>\n",
       "      <td>NaN</td>\n",
       "      <td>NaN</td>\n",
       "      <td>SOUTHERN CALIFORNIA</td>\n",
       "      <td>FALSO</td>\n",
       "    </tr>\n",
       "    <tr>\n",
       "      <th>20</th>\n",
       "      <td>01May2014:15:38:11.000000</td>\n",
       "      <td>5100</td>\n",
       "      <td>700-719</td>\n",
       "      <td>$60,001-$70,000</td>\n",
       "      <td>Ingreso anual neto: $58,300</td>\n",
       "      <td>SOUTHERN CALIFORNIA</td>\n",
       "      <td>FALSO</td>\n",
       "    </tr>\n",
       "    <tr>\n",
       "      <th>25</th>\n",
       "      <td>01May2014:17:35:40.000000</td>\n",
       "      <td>9100</td>\n",
       "      <td>740-759</td>\n",
       "      <td>$30,001-$40,000</td>\n",
       "      <td>Ingreso anual neto: $23,000</td>\n",
       "      <td>SOUTHERN CALIFORNIA</td>\n",
       "      <td>FALSO</td>\n",
       "    </tr>\n",
       "    <tr>\n",
       "      <th>29</th>\n",
       "      <td>01May2014:18:38:45.000000</td>\n",
       "      <td>2800</td>\n",
       "      <td>780-799</td>\n",
       "      <td>$30,001-$40,000</td>\n",
       "      <td>NaN</td>\n",
       "      <td>NORTHERN CALIFORNIA</td>\n",
       "      <td>FALSO</td>\n",
       "    </tr>\n",
       "    <tr>\n",
       "      <th>30</th>\n",
       "      <td>02May2014:09:06:58.000000</td>\n",
       "      <td>7100</td>\n",
       "      <td>700-719</td>\n",
       "      <td>$1-$10,000</td>\n",
       "      <td>NaN</td>\n",
       "      <td>SOUTHERN CALIFORNIA</td>\n",
       "      <td>VERDADERO</td>\n",
       "    </tr>\n",
       "    <tr>\n",
       "      <th>31</th>\n",
       "      <td>02May2014:09:26:27.000000</td>\n",
       "      <td>2500</td>\n",
       "      <td>720-739</td>\n",
       "      <td>$10,001-$20,000</td>\n",
       "      <td>NaN</td>\n",
       "      <td>SOUTHERN CALIFORNIA</td>\n",
       "      <td>VERDADERO</td>\n",
       "    </tr>\n",
       "    <tr>\n",
       "      <th>34</th>\n",
       "      <td>02May2014:10:34:58.000000</td>\n",
       "      <td>6600</td>\n",
       "      <td>800+</td>\n",
       "      <td>NaN</td>\n",
       "      <td>Ingreso anual neto: $15,000</td>\n",
       "      <td>SOUTHERN CALIFORNIA</td>\n",
       "      <td>FALSO</td>\n",
       "    </tr>\n",
       "    <tr>\n",
       "      <th>37</th>\n",
       "      <td>02May2014:11:32:01.000000</td>\n",
       "      <td>3800</td>\n",
       "      <td>780-799</td>\n",
       "      <td>$100,000+</td>\n",
       "      <td>Ingreso mensual neto 7,690</td>\n",
       "      <td>SOUTHERN CALIFORNIA</td>\n",
       "      <td>FALSO</td>\n",
       "    </tr>\n",
       "    <tr>\n",
       "      <th>39</th>\n",
       "      <td>02May2014:12:34:24.000000</td>\n",
       "      <td>2500</td>\n",
       "      <td>780-799</td>\n",
       "      <td>$20,001-$30,000</td>\n",
       "      <td>Pagos mensuales de deuda verificados: $440</td>\n",
       "      <td>NORTHERN CALIFORNIA</td>\n",
       "      <td>VERDADERO</td>\n",
       "    </tr>\n",
       "    <tr>\n",
       "      <th>41</th>\n",
       "      <td>02May2014:13:13:15.000000</td>\n",
       "      <td>7800</td>\n",
       "      <td>740-759</td>\n",
       "      <td>$20,001-$30,000</td>\n",
       "      <td>Ingreso mensual neto 1,250</td>\n",
       "      <td>SOUTHERN CALIFORNIA</td>\n",
       "      <td>VERDADERO</td>\n",
       "    </tr>\n",
       "    <tr>\n",
       "      <th>46</th>\n",
       "      <td>02May2014:14:29:13.000000</td>\n",
       "      <td>2500</td>\n",
       "      <td>740-759</td>\n",
       "      <td>NaN</td>\n",
       "      <td>Ingreso mensual neto 6,970</td>\n",
       "      <td>SOUTHERN CALIFORNIA</td>\n",
       "      <td>FALSO</td>\n",
       "    </tr>\n",
       "    <tr>\n",
       "      <th>47</th>\n",
       "      <td>02May2014:14:56:13.000000</td>\n",
       "      <td>6400</td>\n",
       "      <td>700-719</td>\n",
       "      <td>$100,000+</td>\n",
       "      <td>Ingreso anual neto: $62,400</td>\n",
       "      <td>SOUTHERN CALIFORNIA</td>\n",
       "      <td>FALSO</td>\n",
       "    </tr>\n",
       "    <tr>\n",
       "      <th>49</th>\n",
       "      <td>02May2014:15:31:12.000000</td>\n",
       "      <td>2500</td>\n",
       "      <td>760-779</td>\n",
       "      <td>NaN</td>\n",
       "      <td>Ingreso anual neto: $45,800...El cliente no ti...</td>\n",
       "      <td>NORTHERN CALIFORNIA</td>\n",
       "      <td>VERDADERO</td>\n",
       "    </tr>\n",
       "    <tr>\n",
       "      <th>60</th>\n",
       "      <td>05May2014:09:31:32.000000</td>\n",
       "      <td>14400</td>\n",
       "      <td>780-799</td>\n",
       "      <td>$90,001-$100,000</td>\n",
       "      <td>Ingreso anual neto: $83,300</td>\n",
       "      <td>NORTHERN CALIFORNIA</td>\n",
       "      <td>FALSO</td>\n",
       "    </tr>\n",
       "    <tr>\n",
       "      <th>62</th>\n",
       "      <td>05May2014:10:33:00.000000</td>\n",
       "      <td>2500</td>\n",
       "      <td>780-799</td>\n",
       "      <td>$90,001-$100,000</td>\n",
       "      <td>NaN</td>\n",
       "      <td>NORTHERN CALIFORNIA</td>\n",
       "      <td>FALSO</td>\n",
       "    </tr>\n",
       "    <tr>\n",
       "      <th>66</th>\n",
       "      <td>05May2014:12:01:42.000000</td>\n",
       "      <td>2500</td>\n",
       "      <td>700-719</td>\n",
       "      <td>NaN</td>\n",
       "      <td>Ingreso anual neto: $22,300</td>\n",
       "      <td>SOUTHERN CALIFORNIA</td>\n",
       "      <td>FALSO</td>\n",
       "    </tr>\n",
       "    <tr>\n",
       "      <th>72</th>\n",
       "      <td>05May2014:14:12:48.000000</td>\n",
       "      <td>2500</td>\n",
       "      <td>740-759</td>\n",
       "      <td>NaN</td>\n",
       "      <td>Ingreso anual neto: $23,500</td>\n",
       "      <td>SOUTHERN CALIFORNIA</td>\n",
       "      <td>FALSO</td>\n",
       "    </tr>\n",
       "    <tr>\n",
       "      <th>74</th>\n",
       "      <td>05May2014:14:40:17.000000</td>\n",
       "      <td>2500</td>\n",
       "      <td>700-719</td>\n",
       "      <td>$10,001-$20,000</td>\n",
       "      <td>Ingreso mensual neto 1,630</td>\n",
       "      <td>SOUTHERN CALIFORNIA</td>\n",
       "      <td>VERDADERO</td>\n",
       "    </tr>\n",
       "    <tr>\n",
       "      <th>...</th>\n",
       "      <td>...</td>\n",
       "      <td>...</td>\n",
       "      <td>...</td>\n",
       "      <td>...</td>\n",
       "      <td>...</td>\n",
       "      <td>...</td>\n",
       "      <td>...</td>\n",
       "    </tr>\n",
       "    <tr>\n",
       "      <th>7949</th>\n",
       "      <td>06May2015:11:31:13.000000</td>\n",
       "      <td>2900</td>\n",
       "      <td>800+</td>\n",
       "      <td>$10,001-$20,000</td>\n",
       "      <td>Ingreso anual neto: $15,000</td>\n",
       "      <td>NORTHERN CALIFORNIA</td>\n",
       "      <td>FALSO</td>\n",
       "    </tr>\n",
       "    <tr>\n",
       "      <th>7950</th>\n",
       "      <td>06May2015:11:42:43.000000</td>\n",
       "      <td>6300</td>\n",
       "      <td>700-719</td>\n",
       "      <td>$30,001-$40,000</td>\n",
       "      <td>NaN</td>\n",
       "      <td>SOUTHERN CALIFORNIA</td>\n",
       "      <td>VERDADERO</td>\n",
       "    </tr>\n",
       "    <tr>\n",
       "      <th>7951</th>\n",
       "      <td>06May2015:12:02:51.000000</td>\n",
       "      <td>4300</td>\n",
       "      <td>780-799</td>\n",
       "      <td>NaN</td>\n",
       "      <td>El cliente no tiene deuda</td>\n",
       "      <td>NORTHERN CALIFORNIA</td>\n",
       "      <td>FALSO</td>\n",
       "    </tr>\n",
       "    <tr>\n",
       "      <th>7952</th>\n",
       "      <td>06May2015:12:26:44.000000</td>\n",
       "      <td>2500</td>\n",
       "      <td>740-759</td>\n",
       "      <td>$40,001-$50,000</td>\n",
       "      <td>Ingreso anual neto: $39,700</td>\n",
       "      <td>SOUTHERN CALIFORNIA</td>\n",
       "      <td>VERDADERO</td>\n",
       "    </tr>\n",
       "    <tr>\n",
       "      <th>7956</th>\n",
       "      <td>06May2015:14:07:23.000000</td>\n",
       "      <td>3800</td>\n",
       "      <td>700-719</td>\n",
       "      <td>$1-$10,000</td>\n",
       "      <td>Pagos mensuales de deuda verificados: $130...I...</td>\n",
       "      <td>NORTHERN CALIFORNIA</td>\n",
       "      <td>VERDADERO</td>\n",
       "    </tr>\n",
       "    <tr>\n",
       "      <th>7957</th>\n",
       "      <td>06May2015:14:32:30.000000</td>\n",
       "      <td>6700</td>\n",
       "      <td>760-779</td>\n",
       "      <td>$100,000+</td>\n",
       "      <td>NaN</td>\n",
       "      <td>SOUTHERN CALIFORNIA</td>\n",
       "      <td>FALSO</td>\n",
       "    </tr>\n",
       "    <tr>\n",
       "      <th>7958</th>\n",
       "      <td>06May2015:14:44:11.000000</td>\n",
       "      <td>7500</td>\n",
       "      <td>780-799</td>\n",
       "      <td>$30,001-$40,000</td>\n",
       "      <td>Ingreso anual neto: $52,900</td>\n",
       "      <td>SOUTHERN CALIFORNIA</td>\n",
       "      <td>VERDADERO</td>\n",
       "    </tr>\n",
       "    <tr>\n",
       "      <th>7960</th>\n",
       "      <td>06May2015:15:15:24.000000</td>\n",
       "      <td>2500</td>\n",
       "      <td>780-799</td>\n",
       "      <td>NaN</td>\n",
       "      <td>El cliente no tiene deuda...Ingreso anual neto...</td>\n",
       "      <td>NORTHERN CALIFORNIA</td>\n",
       "      <td>VERDADERO</td>\n",
       "    </tr>\n",
       "    <tr>\n",
       "      <th>7963</th>\n",
       "      <td>06May2015:16:06:15.000000</td>\n",
       "      <td>2500</td>\n",
       "      <td>780-799</td>\n",
       "      <td>$20,001-$30,000</td>\n",
       "      <td>NaN</td>\n",
       "      <td>SOUTHERN CALIFORNIA</td>\n",
       "      <td>VERDADERO</td>\n",
       "    </tr>\n",
       "    <tr>\n",
       "      <th>7964</th>\n",
       "      <td>06May2015:16:38:59.000000</td>\n",
       "      <td>2500</td>\n",
       "      <td>700-719</td>\n",
       "      <td>$90,001-$100,000</td>\n",
       "      <td>NaN</td>\n",
       "      <td>NORTHERN CALIFORNIA</td>\n",
       "      <td>FALSO</td>\n",
       "    </tr>\n",
       "    <tr>\n",
       "      <th>7965</th>\n",
       "      <td>06May2015:16:51:56.000000</td>\n",
       "      <td>7300</td>\n",
       "      <td>700-719</td>\n",
       "      <td>$10,001-$20,000</td>\n",
       "      <td>Ingreso anual neto: $26,300</td>\n",
       "      <td>SOUTHERN CALIFORNIA</td>\n",
       "      <td>VERDADERO</td>\n",
       "    </tr>\n",
       "    <tr>\n",
       "      <th>7968</th>\n",
       "      <td>06May2015:18:01:10.000000</td>\n",
       "      <td>2500</td>\n",
       "      <td>780-799</td>\n",
       "      <td>$100,000+</td>\n",
       "      <td>NaN</td>\n",
       "      <td>NORTHERN CALIFORNIA</td>\n",
       "      <td>FALSO</td>\n",
       "    </tr>\n",
       "    <tr>\n",
       "      <th>7969</th>\n",
       "      <td>06May2015:18:25:17.000000</td>\n",
       "      <td>3200</td>\n",
       "      <td>740-759</td>\n",
       "      <td>NaN</td>\n",
       "      <td>El cliente no tiene deuda</td>\n",
       "      <td>SOUTHERN CALIFORNIA</td>\n",
       "      <td>FALSO</td>\n",
       "    </tr>\n",
       "    <tr>\n",
       "      <th>7970</th>\n",
       "      <td>06May2015:18:52:19.000000</td>\n",
       "      <td>2700</td>\n",
       "      <td>760-779</td>\n",
       "      <td>$100,000+</td>\n",
       "      <td>Ingreso mensual neto 16,670</td>\n",
       "      <td>SOUTHERN CALIFORNIA</td>\n",
       "      <td>VERDADERO</td>\n",
       "    </tr>\n",
       "    <tr>\n",
       "      <th>7971</th>\n",
       "      <td>07May2015:09:01:13.000000</td>\n",
       "      <td>4400</td>\n",
       "      <td>760-779</td>\n",
       "      <td>$1-$10,000</td>\n",
       "      <td>Ingreso anual neto: $15,000</td>\n",
       "      <td>NORTHERN CALIFORNIA</td>\n",
       "      <td>VERDADERO</td>\n",
       "    </tr>\n",
       "    <tr>\n",
       "      <th>7972</th>\n",
       "      <td>07May2015:09:11:16.000000</td>\n",
       "      <td>9800</td>\n",
       "      <td>740-759</td>\n",
       "      <td>$100,000+</td>\n",
       "      <td>NaN</td>\n",
       "      <td>NORTHERN CALIFORNIA</td>\n",
       "      <td>FALSO</td>\n",
       "    </tr>\n",
       "    <tr>\n",
       "      <th>7974</th>\n",
       "      <td>07May2015:09:27:25.000000</td>\n",
       "      <td>2500</td>\n",
       "      <td>740-759</td>\n",
       "      <td>$1-$10,000</td>\n",
       "      <td>Ingreso anual neto: $19,700</td>\n",
       "      <td>SOUTHERN CALIFORNIA</td>\n",
       "      <td>VERDADERO</td>\n",
       "    </tr>\n",
       "    <tr>\n",
       "      <th>7976</th>\n",
       "      <td>07May2015:10:13:50.000000</td>\n",
       "      <td>2500</td>\n",
       "      <td>760-779</td>\n",
       "      <td>$40,001-$50,000</td>\n",
       "      <td>Pagos mensuales de deuda verificados: $700</td>\n",
       "      <td>NORTHERN CALIFORNIA</td>\n",
       "      <td>FALSO</td>\n",
       "    </tr>\n",
       "    <tr>\n",
       "      <th>7977</th>\n",
       "      <td>07May2015:10:32:10.000000</td>\n",
       "      <td>2500</td>\n",
       "      <td>740-759</td>\n",
       "      <td>NaN</td>\n",
       "      <td>Ingreso mensual neto 9,570...El cliente no tie...</td>\n",
       "      <td>NORTHERN CALIFORNIA</td>\n",
       "      <td>VERDADERO</td>\n",
       "    </tr>\n",
       "    <tr>\n",
       "      <th>7982</th>\n",
       "      <td>07May2015:11:55:46.000000</td>\n",
       "      <td>3700</td>\n",
       "      <td>720-739</td>\n",
       "      <td>$30,001-$40,000</td>\n",
       "      <td>NaN</td>\n",
       "      <td>NORTHERN CALIFORNIA</td>\n",
       "      <td>FALSO</td>\n",
       "    </tr>\n",
       "    <tr>\n",
       "      <th>7984</th>\n",
       "      <td>07May2015:12:22:46.000000</td>\n",
       "      <td>2500</td>\n",
       "      <td>700-719</td>\n",
       "      <td>$80,001-$90,000</td>\n",
       "      <td>NaN</td>\n",
       "      <td>NORTHERN CALIFORNIA</td>\n",
       "      <td>FALSO</td>\n",
       "    </tr>\n",
       "    <tr>\n",
       "      <th>7985</th>\n",
       "      <td>07May2015:12:53:01.000000</td>\n",
       "      <td>6700</td>\n",
       "      <td>800+</td>\n",
       "      <td>NaN</td>\n",
       "      <td>Ingreso mensual neto 7,960...El cliente no tie...</td>\n",
       "      <td>SOUTHERN CALIFORNIA</td>\n",
       "      <td>VERDADERO</td>\n",
       "    </tr>\n",
       "    <tr>\n",
       "      <th>7986</th>\n",
       "      <td>07May2015:13:21:02.000000</td>\n",
       "      <td>4500</td>\n",
       "      <td>780-799</td>\n",
       "      <td>$100,000+</td>\n",
       "      <td>Ingreso anual neto: $200,000</td>\n",
       "      <td>NORTHERN CALIFORNIA</td>\n",
       "      <td>VERDADERO</td>\n",
       "    </tr>\n",
       "    <tr>\n",
       "      <th>7987</th>\n",
       "      <td>07May2015:13:29:00.000000</td>\n",
       "      <td>12400</td>\n",
       "      <td>760-779</td>\n",
       "      <td>NaN</td>\n",
       "      <td>Ingreso anual neto: $68,300</td>\n",
       "      <td>NORTHERN CALIFORNIA</td>\n",
       "      <td>VERDADERO</td>\n",
       "    </tr>\n",
       "    <tr>\n",
       "      <th>7991</th>\n",
       "      <td>07May2015:14:16:56.000000</td>\n",
       "      <td>5200</td>\n",
       "      <td>740-759</td>\n",
       "      <td>$60,001-$70,000</td>\n",
       "      <td>NaN</td>\n",
       "      <td>NORTHERN CALIFORNIA</td>\n",
       "      <td>FALSO</td>\n",
       "    </tr>\n",
       "    <tr>\n",
       "      <th>7992</th>\n",
       "      <td>07May2015:14:43:58.000000</td>\n",
       "      <td>2500</td>\n",
       "      <td>720-739</td>\n",
       "      <td>$20,001-$30,000</td>\n",
       "      <td>Ingreso mensual neto 1,660</td>\n",
       "      <td>NORTHERN CALIFORNIA</td>\n",
       "      <td>VERDADERO</td>\n",
       "    </tr>\n",
       "    <tr>\n",
       "      <th>7995</th>\n",
       "      <td>07May2015:16:04:54.000000</td>\n",
       "      <td>3500</td>\n",
       "      <td>700-719</td>\n",
       "      <td>NaN</td>\n",
       "      <td>El cliente no tiene deuda...Ingreso anual neto...</td>\n",
       "      <td>SOUTHERN CALIFORNIA</td>\n",
       "      <td>FALSO</td>\n",
       "    </tr>\n",
       "    <tr>\n",
       "      <th>7996</th>\n",
       "      <td>07May2015:16:38:22.000000</td>\n",
       "      <td>2500</td>\n",
       "      <td>700-719</td>\n",
       "      <td>$1-$10,000</td>\n",
       "      <td>Pagos mensuales de deuda verificados: $10</td>\n",
       "      <td>SOUTHERN CALIFORNIA</td>\n",
       "      <td>VERDADERO</td>\n",
       "    </tr>\n",
       "    <tr>\n",
       "      <th>7997</th>\n",
       "      <td>07May2015:17:04:07.000000</td>\n",
       "      <td>2500</td>\n",
       "      <td>780-799</td>\n",
       "      <td>$10,001-$20,000</td>\n",
       "      <td>Ingreso mensual neto 2,870</td>\n",
       "      <td>SOUTHERN CALIFORNIA</td>\n",
       "      <td>FALSO</td>\n",
       "    </tr>\n",
       "    <tr>\n",
       "      <th>7999</th>\n",
       "      <td>07May2015:17:52:58.000000</td>\n",
       "      <td>2500</td>\n",
       "      <td>740-759</td>\n",
       "      <td>$40,001-$50,000</td>\n",
       "      <td>NaN</td>\n",
       "      <td>NORTHERN CALIFORNIA</td>\n",
       "      <td>VERDADERO</td>\n",
       "    </tr>\n",
       "  </tbody>\n",
       "</table>\n",
       "<p>3811 rows × 7 columns</p>\n",
       "</div>"
      ],
      "text/plain": [
       "           RECORD_CREATION_DATE  MONTO_DEL_PRESTAMO RANGO_DEL_CREDITO  \\\n",
       "0     01May2014:09:24:27.000000                2500           760-779   \n",
       "1     01May2014:09:48:36.000000                2500           700-719   \n",
       "3     01May2014:10:31:25.000000                4300           780-799   \n",
       "4     01May2014:10:46:54.000000               20100           780-799   \n",
       "5     01May2014:11:14:12.000000                6600           760-779   \n",
       "7     01May2014:11:53:24.000000               10000           760-779   \n",
       "8     01May2014:12:18:53.000000                8900           740-759   \n",
       "9     01May2014:12:32:41.000000                2500           760-779   \n",
       "10    01May2014:12:52:26.000000               13000           720-739   \n",
       "11    01May2014:12:59:04.000000                2500           780-799   \n",
       "12    01May2014:13:29:21.000000               11000           700-719   \n",
       "14    01May2014:13:57:11.000000                5900           780-799   \n",
       "19    01May2014:15:23:38.000000                3000           740-759   \n",
       "20    01May2014:15:38:11.000000                5100           700-719   \n",
       "25    01May2014:17:35:40.000000                9100           740-759   \n",
       "29    01May2014:18:38:45.000000                2800           780-799   \n",
       "30    02May2014:09:06:58.000000                7100           700-719   \n",
       "31    02May2014:09:26:27.000000                2500           720-739   \n",
       "34    02May2014:10:34:58.000000                6600              800+   \n",
       "37    02May2014:11:32:01.000000                3800           780-799   \n",
       "39    02May2014:12:34:24.000000                2500           780-799   \n",
       "41    02May2014:13:13:15.000000                7800           740-759   \n",
       "46    02May2014:14:29:13.000000                2500           740-759   \n",
       "47    02May2014:14:56:13.000000                6400           700-719   \n",
       "49    02May2014:15:31:12.000000                2500           760-779   \n",
       "60    05May2014:09:31:32.000000               14400           780-799   \n",
       "62    05May2014:10:33:00.000000                2500           780-799   \n",
       "66    05May2014:12:01:42.000000                2500           700-719   \n",
       "72    05May2014:14:12:48.000000                2500           740-759   \n",
       "74    05May2014:14:40:17.000000                2500           700-719   \n",
       "...                         ...                 ...               ...   \n",
       "7949  06May2015:11:31:13.000000                2900              800+   \n",
       "7950  06May2015:11:42:43.000000                6300           700-719   \n",
       "7951  06May2015:12:02:51.000000                4300           780-799   \n",
       "7952  06May2015:12:26:44.000000                2500           740-759   \n",
       "7956  06May2015:14:07:23.000000                3800           700-719   \n",
       "7957  06May2015:14:32:30.000000                6700           760-779   \n",
       "7958  06May2015:14:44:11.000000                7500           780-799   \n",
       "7960  06May2015:15:15:24.000000                2500           780-799   \n",
       "7963  06May2015:16:06:15.000000                2500           780-799   \n",
       "7964  06May2015:16:38:59.000000                2500           700-719   \n",
       "7965  06May2015:16:51:56.000000                7300           700-719   \n",
       "7968  06May2015:18:01:10.000000                2500           780-799   \n",
       "7969  06May2015:18:25:17.000000                3200           740-759   \n",
       "7970  06May2015:18:52:19.000000                2700           760-779   \n",
       "7971  07May2015:09:01:13.000000                4400           760-779   \n",
       "7972  07May2015:09:11:16.000000                9800           740-759   \n",
       "7974  07May2015:09:27:25.000000                2500           740-759   \n",
       "7976  07May2015:10:13:50.000000                2500           760-779   \n",
       "7977  07May2015:10:32:10.000000                2500           740-759   \n",
       "7982  07May2015:11:55:46.000000                3700           720-739   \n",
       "7984  07May2015:12:22:46.000000                2500           700-719   \n",
       "7985  07May2015:12:53:01.000000                6700              800+   \n",
       "7986  07May2015:13:21:02.000000                4500           780-799   \n",
       "7987  07May2015:13:29:00.000000               12400           760-779   \n",
       "7991  07May2015:14:16:56.000000                5200           740-759   \n",
       "7992  07May2015:14:43:58.000000                2500           720-739   \n",
       "7995  07May2015:16:04:54.000000                3500           700-719   \n",
       "7996  07May2015:16:38:22.000000                2500           700-719   \n",
       "7997  07May2015:17:04:07.000000                2500           780-799   \n",
       "7999  07May2015:17:52:58.000000                2500           740-759   \n",
       "\n",
       "       DEUDA_EXISTENTE                                   NOTAS_DEL_AGENTE  \\\n",
       "0      $10,001-$20,000                                                NaN   \n",
       "1           $1-$10,000                        Ingreso anual neto: $25,400   \n",
       "3           $1-$10,000                       Ingreso anual neto: $191,900   \n",
       "4     $90,001-$100,000       Pagos mensuales de deuda verificados: $1,700   \n",
       "5      $10,001-$20,000                                                NaN   \n",
       "7      $20,001-$30,000                                                NaN   \n",
       "8      $80,001-$90,000                                                NaN   \n",
       "9      $30,001-$40,000  Pagos mensuales de deuda verificados: $590...I...   \n",
       "10     $10,001-$20,000                                                NaN   \n",
       "11     $10,001-$20,000                        Ingreso mensual neto 16,670   \n",
       "12     $70,001-$80,000                                                NaN   \n",
       "14     $20,001-$30,000                                                NaN   \n",
       "19                 NaN                                                NaN   \n",
       "20     $60,001-$70,000                        Ingreso anual neto: $58,300   \n",
       "25     $30,001-$40,000                        Ingreso anual neto: $23,000   \n",
       "29     $30,001-$40,000                                                NaN   \n",
       "30          $1-$10,000                                                NaN   \n",
       "31     $10,001-$20,000                                                NaN   \n",
       "34                 NaN                        Ingreso anual neto: $15,000   \n",
       "37           $100,000+                         Ingreso mensual neto 7,690   \n",
       "39     $20,001-$30,000         Pagos mensuales de deuda verificados: $440   \n",
       "41     $20,001-$30,000                         Ingreso mensual neto 1,250   \n",
       "46                 NaN                         Ingreso mensual neto 6,970   \n",
       "47           $100,000+                        Ingreso anual neto: $62,400   \n",
       "49                 NaN  Ingreso anual neto: $45,800...El cliente no ti...   \n",
       "60    $90,001-$100,000                        Ingreso anual neto: $83,300   \n",
       "62    $90,001-$100,000                                                NaN   \n",
       "66                 NaN                        Ingreso anual neto: $22,300   \n",
       "72                 NaN                        Ingreso anual neto: $23,500   \n",
       "74     $10,001-$20,000                         Ingreso mensual neto 1,630   \n",
       "...                ...                                                ...   \n",
       "7949   $10,001-$20,000                        Ingreso anual neto: $15,000   \n",
       "7950   $30,001-$40,000                                                NaN   \n",
       "7951               NaN                          El cliente no tiene deuda   \n",
       "7952   $40,001-$50,000                        Ingreso anual neto: $39,700   \n",
       "7956        $1-$10,000  Pagos mensuales de deuda verificados: $130...I...   \n",
       "7957         $100,000+                                                NaN   \n",
       "7958   $30,001-$40,000                        Ingreso anual neto: $52,900   \n",
       "7960               NaN  El cliente no tiene deuda...Ingreso anual neto...   \n",
       "7963   $20,001-$30,000                                                NaN   \n",
       "7964  $90,001-$100,000                                                NaN   \n",
       "7965   $10,001-$20,000                        Ingreso anual neto: $26,300   \n",
       "7968         $100,000+                                                NaN   \n",
       "7969               NaN                          El cliente no tiene deuda   \n",
       "7970         $100,000+                        Ingreso mensual neto 16,670   \n",
       "7971        $1-$10,000                        Ingreso anual neto: $15,000   \n",
       "7972         $100,000+                                                NaN   \n",
       "7974        $1-$10,000                        Ingreso anual neto: $19,700   \n",
       "7976   $40,001-$50,000         Pagos mensuales de deuda verificados: $700   \n",
       "7977               NaN  Ingreso mensual neto 9,570...El cliente no tie...   \n",
       "7982   $30,001-$40,000                                                NaN   \n",
       "7984   $80,001-$90,000                                                NaN   \n",
       "7985               NaN  Ingreso mensual neto 7,960...El cliente no tie...   \n",
       "7986         $100,000+                       Ingreso anual neto: $200,000   \n",
       "7987               NaN                        Ingreso anual neto: $68,300   \n",
       "7991   $60,001-$70,000                                                NaN   \n",
       "7992   $20,001-$30,000                         Ingreso mensual neto 1,660   \n",
       "7995               NaN  El cliente no tiene deuda...Ingreso anual neto...   \n",
       "7996        $1-$10,000          Pagos mensuales de deuda verificados: $10   \n",
       "7997   $10,001-$20,000                         Ingreso mensual neto 2,870   \n",
       "7999   $40,001-$50,000                                                NaN   \n",
       "\n",
       "     UBICACION_DE_LA_OFICINA PRESTAMO_INCUMPLIDO  \n",
       "0        NORTHERN CALIFORNIA               FALSO  \n",
       "1        SOUTHERN CALIFORNIA               FALSO  \n",
       "3        SOUTHERN CALIFORNIA               FALSO  \n",
       "4        SOUTHERN CALIFORNIA           VERDADERO  \n",
       "5        NORTHERN CALIFORNIA               FALSO  \n",
       "7        SOUTHERN CALIFORNIA               FALSO  \n",
       "8        NORTHERN CALIFORNIA               FALSO  \n",
       "9        NORTHERN CALIFORNIA               FALSO  \n",
       "10       SOUTHERN CALIFORNIA               FALSO  \n",
       "11       NORTHERN CALIFORNIA           VERDADERO  \n",
       "12       NORTHERN CALIFORNIA               FALSO  \n",
       "14       SOUTHERN CALIFORNIA               FALSO  \n",
       "19       SOUTHERN CALIFORNIA               FALSO  \n",
       "20       SOUTHERN CALIFORNIA               FALSO  \n",
       "25       SOUTHERN CALIFORNIA               FALSO  \n",
       "29       NORTHERN CALIFORNIA               FALSO  \n",
       "30       SOUTHERN CALIFORNIA           VERDADERO  \n",
       "31       SOUTHERN CALIFORNIA           VERDADERO  \n",
       "34       SOUTHERN CALIFORNIA               FALSO  \n",
       "37       SOUTHERN CALIFORNIA               FALSO  \n",
       "39       NORTHERN CALIFORNIA           VERDADERO  \n",
       "41       SOUTHERN CALIFORNIA           VERDADERO  \n",
       "46       SOUTHERN CALIFORNIA               FALSO  \n",
       "47       SOUTHERN CALIFORNIA               FALSO  \n",
       "49       NORTHERN CALIFORNIA           VERDADERO  \n",
       "60       NORTHERN CALIFORNIA               FALSO  \n",
       "62       NORTHERN CALIFORNIA               FALSO  \n",
       "66       SOUTHERN CALIFORNIA               FALSO  \n",
       "72       SOUTHERN CALIFORNIA               FALSO  \n",
       "74       SOUTHERN CALIFORNIA           VERDADERO  \n",
       "...                      ...                 ...  \n",
       "7949     NORTHERN CALIFORNIA               FALSO  \n",
       "7950     SOUTHERN CALIFORNIA           VERDADERO  \n",
       "7951     NORTHERN CALIFORNIA               FALSO  \n",
       "7952     SOUTHERN CALIFORNIA           VERDADERO  \n",
       "7956     NORTHERN CALIFORNIA           VERDADERO  \n",
       "7957     SOUTHERN CALIFORNIA               FALSO  \n",
       "7958     SOUTHERN CALIFORNIA           VERDADERO  \n",
       "7960     NORTHERN CALIFORNIA           VERDADERO  \n",
       "7963     SOUTHERN CALIFORNIA           VERDADERO  \n",
       "7964     NORTHERN CALIFORNIA               FALSO  \n",
       "7965     SOUTHERN CALIFORNIA           VERDADERO  \n",
       "7968     NORTHERN CALIFORNIA               FALSO  \n",
       "7969     SOUTHERN CALIFORNIA               FALSO  \n",
       "7970     SOUTHERN CALIFORNIA           VERDADERO  \n",
       "7971     NORTHERN CALIFORNIA           VERDADERO  \n",
       "7972     NORTHERN CALIFORNIA               FALSO  \n",
       "7974     SOUTHERN CALIFORNIA           VERDADERO  \n",
       "7976     NORTHERN CALIFORNIA               FALSO  \n",
       "7977     NORTHERN CALIFORNIA           VERDADERO  \n",
       "7982     NORTHERN CALIFORNIA               FALSO  \n",
       "7984     NORTHERN CALIFORNIA               FALSO  \n",
       "7985     SOUTHERN CALIFORNIA           VERDADERO  \n",
       "7986     NORTHERN CALIFORNIA           VERDADERO  \n",
       "7987     NORTHERN CALIFORNIA           VERDADERO  \n",
       "7991     NORTHERN CALIFORNIA               FALSO  \n",
       "7992     NORTHERN CALIFORNIA           VERDADERO  \n",
       "7995     SOUTHERN CALIFORNIA               FALSO  \n",
       "7996     SOUTHERN CALIFORNIA           VERDADERO  \n",
       "7997     SOUTHERN CALIFORNIA               FALSO  \n",
       "7999     NORTHERN CALIFORNIA           VERDADERO  \n",
       "\n",
       "[3811 rows x 7 columns]"
      ]
     },
     "execution_count": 38,
     "metadata": {},
     "output_type": "execute_result"
    }
   ],
   "source": [
    "df = pd.read_csv('cartera.csv')\n",
    "#df2 = df.groupby('timestamp')\n",
    "#df2.count()\n",
    "df[df['UBICACION_DE_LA_OFICINA'].str.contains('CALIFORNIA')]"
   ]
  },
  {
   "cell_type": "code",
   "execution_count": 2,
   "metadata": {},
   "outputs": [
    {
     "data": {
      "text/plain": [
       "0    Tiger\n",
       "1     Bear\n",
       "2    Moose\n",
       "dtype: object"
      ]
     },
     "execution_count": 2,
     "metadata": {},
     "output_type": "execute_result"
    }
   ],
   "source": [
    "animals = ['Tiger', 'Bear', 'Moose']\n",
    "pd.Series(animals)"
   ]
  },
  {
   "cell_type": "code",
   "execution_count": 3,
   "metadata": {},
   "outputs": [
    {
     "data": {
      "text/plain": [
       "0    1\n",
       "1    2\n",
       "2    3\n",
       "dtype: int64"
      ]
     },
     "execution_count": 3,
     "metadata": {},
     "output_type": "execute_result"
    }
   ],
   "source": [
    "numbers = [1, 2, 3]\n",
    "pd.Series(numbers)"
   ]
  },
  {
   "cell_type": "code",
   "execution_count": 4,
   "metadata": {},
   "outputs": [
    {
     "data": {
      "text/plain": [
       "0    Tiger\n",
       "1     Bear\n",
       "2     None\n",
       "dtype: object"
      ]
     },
     "execution_count": 4,
     "metadata": {},
     "output_type": "execute_result"
    }
   ],
   "source": [
    "animals = ['Tiger', 'Bear', None]\n",
    "pd.Series(animals)"
   ]
  },
  {
   "cell_type": "code",
   "execution_count": 5,
   "metadata": {},
   "outputs": [
    {
     "data": {
      "text/plain": [
       "0    1.0\n",
       "1    2.0\n",
       "2    NaN\n",
       "dtype: float64"
      ]
     },
     "execution_count": 5,
     "metadata": {},
     "output_type": "execute_result"
    }
   ],
   "source": [
    "numbers = [1, 2, None]\n",
    "pd.Series(numbers)"
   ]
  },
  {
   "cell_type": "code",
   "execution_count": 6,
   "metadata": {},
   "outputs": [
    {
     "data": {
      "text/plain": [
       "False"
      ]
     },
     "execution_count": 6,
     "metadata": {},
     "output_type": "execute_result"
    }
   ],
   "source": [
    "import numpy as np\n",
    "np.nan == None"
   ]
  },
  {
   "cell_type": "code",
   "execution_count": 7,
   "metadata": {},
   "outputs": [
    {
     "data": {
      "text/plain": [
       "False"
      ]
     },
     "execution_count": 7,
     "metadata": {},
     "output_type": "execute_result"
    }
   ],
   "source": [
    "np.nan == np.nan"
   ]
  },
  {
   "cell_type": "code",
   "execution_count": 8,
   "metadata": {},
   "outputs": [
    {
     "data": {
      "text/plain": [
       "True"
      ]
     },
     "execution_count": 8,
     "metadata": {},
     "output_type": "execute_result"
    }
   ],
   "source": [
    "np.isnan(np.nan)"
   ]
  },
  {
   "cell_type": "code",
   "execution_count": 9,
   "metadata": {},
   "outputs": [
    {
     "data": {
      "text/plain": [
       "Archery           Bhutan\n",
       "Golf            Scotland\n",
       "Sumo               Japan\n",
       "Taekwondo    South Korea\n",
       "dtype: object"
      ]
     },
     "execution_count": 9,
     "metadata": {},
     "output_type": "execute_result"
    }
   ],
   "source": [
    "sports = {'Archery': 'Bhutan',\n",
    "          'Golf': 'Scotland',\n",
    "          'Sumo': 'Japan',\n",
    "          'Taekwondo': 'South Korea'}\n",
    "s = pd.Series(sports)\n",
    "s"
   ]
  },
  {
   "cell_type": "markdown",
   "metadata": {},
   "source": [
    "# Obteniendo solo los keys\n",
    "- Note que el anterior box retorna la serie en 2 columnas, en donde la primera son los key en el dictiomary y el segundo es el value"
   ]
  },
  {
   "cell_type": "code",
   "execution_count": 10,
   "metadata": {},
   "outputs": [
    {
     "data": {
      "text/plain": [
       "Index(['Archery', 'Golf', 'Sumo', 'Taekwondo'], dtype='object')"
      ]
     },
     "execution_count": 10,
     "metadata": {},
     "output_type": "execute_result"
    }
   ],
   "source": [
    "s.index"
   ]
  },
  {
   "cell_type": "code",
   "execution_count": 11,
   "metadata": {},
   "outputs": [
    {
     "data": {
      "text/plain": [
       "India      Tiger\n",
       "America     Bear\n",
       "Canada     Moose\n",
       "dtype: object"
      ]
     },
     "execution_count": 11,
     "metadata": {},
     "output_type": "execute_result"
    }
   ],
   "source": [
    "s = pd.Series(['Tiger', 'Bear', 'Moose'], index=['India', 'America', 'Canada'])\n",
    "s"
   ]
  },
  {
   "cell_type": "code",
   "execution_count": 12,
   "metadata": {},
   "outputs": [
    {
     "data": {
      "text/plain": [
       "Golf      Scotland\n",
       "Sumo         Japan\n",
       "Hockey         NaN\n",
       "dtype: object"
      ]
     },
     "execution_count": 12,
     "metadata": {},
     "output_type": "execute_result"
    }
   ],
   "source": [
    "sports = {'Archery': 'Bhutan',\n",
    "          'Golf': 'Scotland',\n",
    "          'Sumo': 'Japan',\n",
    "          'Taekwondo': 'South Korea'}\n",
    "s = pd.Series(sports, index=['Golf', 'Sumo', 'Hockey'])\n",
    "s"
   ]
  },
  {
   "cell_type": "markdown",
   "metadata": {},
   "source": [
    "# Querying a Series"
   ]
  },
  {
   "cell_type": "code",
   "execution_count": 13,
   "metadata": {},
   "outputs": [
    {
     "data": {
      "text/plain": [
       "Archery           Bhutan\n",
       "Golf            Scotland\n",
       "Sumo               Japan\n",
       "Taekwondo    South Korea\n",
       "dtype: object"
      ]
     },
     "execution_count": 13,
     "metadata": {},
     "output_type": "execute_result"
    }
   ],
   "source": [
    "sports = {'Archery': 'Bhutan',\n",
    "          'Golf': 'Scotland',\n",
    "          'Sumo': 'Japan',\n",
    "          'Taekwondo': 'South Korea'}\n",
    "s = pd.Series(sports)\n",
    "s"
   ]
  },
  {
   "cell_type": "markdown",
   "metadata": {},
   "source": [
    "- iloc para buscar values by index y 'loc' para buscar values by key, ejemplo:\n",
    "- #NOTA MENTAL#: iloc y loc no son metodos SON atributos por eso no se usa con s() es un atributo como cuando hacemos con un array en java list1[] y no list.emelmenAt()..que si es un método"
   ]
  },
  {
   "cell_type": "code",
   "execution_count": 14,
   "metadata": {},
   "outputs": [
    {
     "data": {
      "text/plain": [
       "'South Korea'"
      ]
     },
     "execution_count": 14,
     "metadata": {},
     "output_type": "execute_result"
    }
   ],
   "source": [
    "s.iloc[3]"
   ]
  },
  {
   "cell_type": "code",
   "execution_count": 15,
   "metadata": {},
   "outputs": [
    {
     "data": {
      "text/plain": [
       "'Scotland'"
      ]
     },
     "execution_count": 15,
     "metadata": {},
     "output_type": "execute_result"
    }
   ],
   "source": [
    "s.loc['Golf']"
   ]
  },
  {
   "cell_type": "markdown",
   "metadata": {},
   "source": [
    "- Pero el interpreter tambien sbe identificar si es el uno o el otro, dependiendo del tipo de datos"
   ]
  },
  {
   "cell_type": "code",
   "execution_count": 16,
   "metadata": {},
   "outputs": [
    {
     "data": {
      "text/plain": [
       "'South Korea'"
      ]
     },
     "execution_count": 16,
     "metadata": {},
     "output_type": "execute_result"
    }
   ],
   "source": [
    "s[3]"
   ]
  },
  {
   "cell_type": "code",
   "execution_count": 17,
   "metadata": {},
   "outputs": [
    {
     "data": {
      "text/plain": [
       "'Scotland'"
      ]
     },
     "execution_count": 17,
     "metadata": {},
     "output_type": "execute_result"
    }
   ],
   "source": [
    "s['Golf']"
   ]
  },
  {
   "cell_type": "code",
   "execution_count": 18,
   "metadata": {},
   "outputs": [
    {
     "data": {
      "text/plain": [
       "99          Bhutan\n",
       "100       Scotland\n",
       "101          Japan\n",
       "102    South Korea\n",
       "dtype: object"
      ]
     },
     "execution_count": 18,
     "metadata": {},
     "output_type": "execute_result"
    }
   ],
   "source": [
    "sports = {99: 'Bhutan',\n",
    "          100: 'Scotland',\n",
    "          101: 'Japan',\n",
    "          102: 'South Korea'}\n",
    "s = pd.Series(sports)\n",
    "s"
   ]
  },
  {
   "cell_type": "code",
   "execution_count": 19,
   "metadata": {
    "scrolled": true
   },
   "outputs": [
    {
     "ename": "KeyError",
     "evalue": "0",
     "output_type": "error",
     "traceback": [
      "\u001b[0;31m---------------------------------------------------------------------------\u001b[0m",
      "\u001b[0;31mKeyError\u001b[0m                                  Traceback (most recent call last)",
      "\u001b[0;32m<ipython-input-19-00fa51989f14>\u001b[0m in \u001b[0;36m<module>\u001b[0;34m\u001b[0m\n\u001b[0;32m----> 1\u001b[0;31m \u001b[0ms\u001b[0m\u001b[0;34m[\u001b[0m\u001b[0;36m0\u001b[0m\u001b[0;34m]\u001b[0m \u001b[0;31m#This won't call s.iloc[0] as one might expect, it generates an error instead\u001b[0m\u001b[0;34m\u001b[0m\u001b[0;34m\u001b[0m\u001b[0m\n\u001b[0m",
      "\u001b[0;32m~/anaconda3/lib/python3.7/site-packages/pandas/core/series.py\u001b[0m in \u001b[0;36m__getitem__\u001b[0;34m(self, key)\u001b[0m\n\u001b[1;32m    765\u001b[0m         \u001b[0mkey\u001b[0m \u001b[0;34m=\u001b[0m \u001b[0mcom\u001b[0m\u001b[0;34m.\u001b[0m\u001b[0m_apply_if_callable\u001b[0m\u001b[0;34m(\u001b[0m\u001b[0mkey\u001b[0m\u001b[0;34m,\u001b[0m \u001b[0mself\u001b[0m\u001b[0;34m)\u001b[0m\u001b[0;34m\u001b[0m\u001b[0;34m\u001b[0m\u001b[0m\n\u001b[1;32m    766\u001b[0m         \u001b[0;32mtry\u001b[0m\u001b[0;34m:\u001b[0m\u001b[0;34m\u001b[0m\u001b[0;34m\u001b[0m\u001b[0m\n\u001b[0;32m--> 767\u001b[0;31m             \u001b[0mresult\u001b[0m \u001b[0;34m=\u001b[0m \u001b[0mself\u001b[0m\u001b[0;34m.\u001b[0m\u001b[0mindex\u001b[0m\u001b[0;34m.\u001b[0m\u001b[0mget_value\u001b[0m\u001b[0;34m(\u001b[0m\u001b[0mself\u001b[0m\u001b[0;34m,\u001b[0m \u001b[0mkey\u001b[0m\u001b[0;34m)\u001b[0m\u001b[0;34m\u001b[0m\u001b[0;34m\u001b[0m\u001b[0m\n\u001b[0m\u001b[1;32m    768\u001b[0m \u001b[0;34m\u001b[0m\u001b[0m\n\u001b[1;32m    769\u001b[0m             \u001b[0;32mif\u001b[0m \u001b[0;32mnot\u001b[0m \u001b[0mis_scalar\u001b[0m\u001b[0;34m(\u001b[0m\u001b[0mresult\u001b[0m\u001b[0;34m)\u001b[0m\u001b[0;34m:\u001b[0m\u001b[0;34m\u001b[0m\u001b[0;34m\u001b[0m\u001b[0m\n",
      "\u001b[0;32m~/anaconda3/lib/python3.7/site-packages/pandas/core/indexes/base.py\u001b[0m in \u001b[0;36mget_value\u001b[0;34m(self, series, key)\u001b[0m\n\u001b[1;32m   3116\u001b[0m         \u001b[0;32mtry\u001b[0m\u001b[0;34m:\u001b[0m\u001b[0;34m\u001b[0m\u001b[0;34m\u001b[0m\u001b[0m\n\u001b[1;32m   3117\u001b[0m             return self._engine.get_value(s, k,\n\u001b[0;32m-> 3118\u001b[0;31m                                           tz=getattr(series.dtype, 'tz', None))\n\u001b[0m\u001b[1;32m   3119\u001b[0m         \u001b[0;32mexcept\u001b[0m \u001b[0mKeyError\u001b[0m \u001b[0;32mas\u001b[0m \u001b[0me1\u001b[0m\u001b[0;34m:\u001b[0m\u001b[0;34m\u001b[0m\u001b[0;34m\u001b[0m\u001b[0m\n\u001b[1;32m   3120\u001b[0m             \u001b[0;32mif\u001b[0m \u001b[0mlen\u001b[0m\u001b[0;34m(\u001b[0m\u001b[0mself\u001b[0m\u001b[0;34m)\u001b[0m \u001b[0;34m>\u001b[0m \u001b[0;36m0\u001b[0m \u001b[0;32mand\u001b[0m \u001b[0mself\u001b[0m\u001b[0;34m.\u001b[0m\u001b[0minferred_type\u001b[0m \u001b[0;32min\u001b[0m \u001b[0;34m[\u001b[0m\u001b[0;34m'integer'\u001b[0m\u001b[0;34m,\u001b[0m \u001b[0;34m'boolean'\u001b[0m\u001b[0;34m]\u001b[0m\u001b[0;34m:\u001b[0m\u001b[0;34m\u001b[0m\u001b[0;34m\u001b[0m\u001b[0m\n",
      "\u001b[0;32mpandas/_libs/index.pyx\u001b[0m in \u001b[0;36mpandas._libs.index.IndexEngine.get_value\u001b[0;34m()\u001b[0m\n",
      "\u001b[0;32mpandas/_libs/index.pyx\u001b[0m in \u001b[0;36mpandas._libs.index.IndexEngine.get_value\u001b[0;34m()\u001b[0m\n",
      "\u001b[0;32mpandas/_libs/index.pyx\u001b[0m in \u001b[0;36mpandas._libs.index.IndexEngine.get_loc\u001b[0;34m()\u001b[0m\n",
      "\u001b[0;32mpandas/_libs/hashtable_class_helper.pxi\u001b[0m in \u001b[0;36mpandas._libs.hashtable.Int64HashTable.get_item\u001b[0;34m()\u001b[0m\n",
      "\u001b[0;32mpandas/_libs/hashtable_class_helper.pxi\u001b[0m in \u001b[0;36mpandas._libs.hashtable.Int64HashTable.get_item\u001b[0;34m()\u001b[0m\n",
      "\u001b[0;31mKeyError\u001b[0m: 0"
     ]
    }
   ],
   "source": [
    "s[0] #This won't call s.iloc[0] as one might expect, it generates an error instead"
   ]
  },
  {
   "cell_type": "code",
   "execution_count": null,
   "metadata": {},
   "outputs": [],
   "source": [
    "# Solucion al error anterior:\n",
    "s.iloc[0]"
   ]
  },
  {
   "cell_type": "code",
   "execution_count": null,
   "metadata": {},
   "outputs": [],
   "source": [
    "s = pd.Series([100.00, 120.00, 101.00, 3.00])\n",
    "s"
   ]
  },
  {
   "cell_type": "markdown",
   "metadata": {},
   "source": [
    "- Solucion tradicional peeero no es tan efectiva en cuanto a performance "
   ]
  },
  {
   "cell_type": "code",
   "execution_count": null,
   "metadata": {},
   "outputs": [],
   "source": [
    "total = 0\n",
    "for item in s:\n",
    "    total+=item\n",
    "print(total)"
   ]
  },
  {
   "cell_type": "code",
   "execution_count": null,
   "metadata": {},
   "outputs": [],
   "source": [
    "import numpy as np\n",
    "# Solucion mas efectiva ya que son metodos optimizados que en ambientes de mucha data correría en menos tiempo,\n",
    "# ya que internamente hace uso de parallel computing\n",
    "total = np.sum(s)\n",
    "print(total)"
   ]
  },
  {
   "cell_type": "code",
   "execution_count": null,
   "metadata": {},
   "outputs": [],
   "source": [
    "#this creates a big series of random numbers  low=0, highg:1000 and 10000 elements into the list\n",
    "s = pd.Series(np.random.randint(0,1000,10000))\n",
    "s.head()\n",
    "# head trae los primeros 5 elementos, verifique que no es mentira con len(s)"
   ]
  },
  {
   "cell_type": "code",
   "execution_count": null,
   "metadata": {},
   "outputs": [],
   "source": [
    "len(s)"
   ]
  },
  {
   "cell_type": "code",
   "execution_count": null,
   "metadata": {},
   "outputs": [],
   "source": [
    "%%timeit -n 100\n",
    "summary = 0\n",
    "for item in s:\n",
    "    summary+=item"
   ]
  },
  {
   "cell_type": "code",
   "execution_count": null,
   "metadata": {},
   "outputs": [],
   "source": [
    "%%timeit -n 100\n",
    "summary = np.sum(s)"
   ]
  },
  {
   "cell_type": "code",
   "execution_count": null,
   "metadata": {},
   "outputs": [],
   "source": [
    "s+=2 #adds two to each item in s using broadcasting\n",
    "s.head()"
   ]
  },
  {
   "cell_type": "code",
   "execution_count": null,
   "metadata": {},
   "outputs": [],
   "source": [
    "for label, value in s.iteritems():\n",
    "    s.set_value(label, value+2)\n",
    "s.head()"
   ]
  },
  {
   "cell_type": "markdown",
   "metadata": {},
   "source": [
    "- En algunos casos esto hasta se muere según el equipo"
   ]
  },
  {
   "cell_type": "code",
   "execution_count": null,
   "metadata": {},
   "outputs": [],
   "source": [
    "%%timeit -n 10\n",
    "s = pd.Series(np.random.randint(0,1000,10000))\n",
    "for label, value in s.iteritems():\n",
    "    s.loc[label]= value+2"
   ]
  },
  {
   "cell_type": "code",
   "execution_count": null,
   "metadata": {},
   "outputs": [],
   "source": [
    "%%timeit -n 10\n",
    "s = pd.Series(np.random.randint(0,1000,10000))\n",
    "s+=2\n"
   ]
  },
  {
   "cell_type": "code",
   "execution_count": null,
   "metadata": {},
   "outputs": [],
   "source": [
    "s = pd.Series([1, 2, 3])\n",
    "s.loc['Animal'] = 'Bears'\n",
    "s"
   ]
  },
  {
   "cell_type": "code",
   "execution_count": null,
   "metadata": {},
   "outputs": [],
   "source": [
    "original_sports = pd.Series({'Archery': 'Bhutan',\n",
    "                             'Golf': 'Scotland',\n",
    "                             'Sumo': 'Japan',\n",
    "                             'Taekwondo': 'South Korea'})\n",
    "cricket_loving_countries = pd.Series(['Australia',\n",
    "                                      'Barbados',\n",
    "                                      'Pakistan',\n",
    "                                      'England'], \n",
    "                                   index=['Cricket',\n",
    "                                          'Cricket',\n",
    "                                          'Cricket',\n",
    "                                          'Cricket'])\n",
    "all_countries = original_sports.append(cricket_loving_countries)"
   ]
  },
  {
   "cell_type": "code",
   "execution_count": null,
   "metadata": {},
   "outputs": [],
   "source": [
    "original_sports"
   ]
  },
  {
   "cell_type": "code",
   "execution_count": null,
   "metadata": {},
   "outputs": [],
   "source": [
    "cricket_loving_countries"
   ]
  },
  {
   "cell_type": "code",
   "execution_count": null,
   "metadata": {},
   "outputs": [],
   "source": [
    "all_countries"
   ]
  },
  {
   "cell_type": "code",
   "execution_count": null,
   "metadata": {},
   "outputs": [],
   "source": [
    "all_countries.loc['Cricket']"
   ]
  },
  {
   "cell_type": "markdown",
   "metadata": {
    "collapsed": true
   },
   "source": [
    "# The DataFrame Data Structure"
   ]
  },
  {
   "cell_type": "code",
   "execution_count": null,
   "metadata": {},
   "outputs": [],
   "source": [
    "import pandas as pd\n",
    "purchase_1 = pd.Series({'Name': 'Chris',\n",
    "                        'Item Purchased': 'Dog Food',\n",
    "                        'Cost': 22.50})\n",
    "purchase_2 = pd.Series({'Name': 'Kevyn',\n",
    "                        'Item Purchased': 'Kitty Litter',\n",
    "                        'Cost': 2.50})\n",
    "purchase_3 = pd.Series({'Name': 'Vinod',\n",
    "                        'Item Purchased': 'Bird Seed',\n",
    "                        'Cost': 5.00})\n",
    "df = pd.DataFrame([purchase_1, purchase_2, purchase_3], index=['Store 1', 'Store 1', 'Store 2'])\n",
    "df.head()"
   ]
  },
  {
   "cell_type": "code",
   "execution_count": null,
   "metadata": {},
   "outputs": [],
   "source": [
    "df.loc['Store 2']"
   ]
  },
  {
   "cell_type": "code",
   "execution_count": null,
   "metadata": {},
   "outputs": [],
   "source": [
    "type(df.loc['Store 2'])"
   ]
  },
  {
   "cell_type": "code",
   "execution_count": null,
   "metadata": {},
   "outputs": [],
   "source": [
    "df.loc['Store 1']\n",
    "#type(df.loc['Store 1']) es de tipo dataFrame"
   ]
  },
  {
   "cell_type": "code",
   "execution_count": null,
   "metadata": {},
   "outputs": [],
   "source": [
    "df.loc['Store 1', 'Cost']\n",
    "#type(df.loc['Store 1', 'Cost']) tipo serie"
   ]
  },
  {
   "cell_type": "code",
   "execution_count": null,
   "metadata": {},
   "outputs": [],
   "source": [
    "df.T"
   ]
  },
  {
   "cell_type": "code",
   "execution_count": null,
   "metadata": {},
   "outputs": [],
   "source": [
    "df.T.loc['Cost']"
   ]
  },
  {
   "cell_type": "code",
   "execution_count": null,
   "metadata": {},
   "outputs": [],
   "source": [
    "df['Cost']"
   ]
  },
  {
   "cell_type": "code",
   "execution_count": null,
   "metadata": {},
   "outputs": [],
   "source": [
    "df.loc['Store 1']['Cost']"
   ]
  },
  {
   "cell_type": "code",
   "execution_count": null,
   "metadata": {},
   "outputs": [],
   "source": [
    "df.loc[:,['Name', 'Cost']]"
   ]
  },
  {
   "cell_type": "code",
   "execution_count": null,
   "metadata": {},
   "outputs": [],
   "source": [
    "df.drop('Store 1')"
   ]
  },
  {
   "cell_type": "code",
   "execution_count": null,
   "metadata": {},
   "outputs": [],
   "source": [
    "df"
   ]
  },
  {
   "cell_type": "code",
   "execution_count": null,
   "metadata": {},
   "outputs": [],
   "source": [
    "copy_df = df.copy()\n",
    "copy_df = copy_df.drop('Store 1')\n",
    "copy_df"
   ]
  },
  {
   "cell_type": "code",
   "execution_count": null,
   "metadata": {},
   "outputs": [],
   "source": [
    "copy_df.drop?"
   ]
  },
  {
   "cell_type": "code",
   "execution_count": null,
   "metadata": {},
   "outputs": [],
   "source": [
    "del copy_df['Name']\n",
    "copy_df"
   ]
  },
  {
   "cell_type": "code",
   "execution_count": null,
   "metadata": {},
   "outputs": [],
   "source": [
    "df['Location'] = None\n",
    "df"
   ]
  },
  {
   "cell_type": "markdown",
   "metadata": {
    "collapsed": true
   },
   "source": [
    "# Dataframe Indexing and Loading"
   ]
  },
  {
   "cell_type": "code",
   "execution_count": null,
   "metadata": {},
   "outputs": [],
   "source": [
    "costs = df['Cost']\n",
    "costs"
   ]
  },
  {
   "cell_type": "code",
   "execution_count": null,
   "metadata": {},
   "outputs": [],
   "source": [
    "costs+=2\n",
    "costs"
   ]
  },
  {
   "cell_type": "code",
   "execution_count": null,
   "metadata": {},
   "outputs": [],
   "source": [
    "df"
   ]
  },
  {
   "cell_type": "markdown",
   "metadata": {},
   "source": [
    "- cat permite ver el archivo: cuando el notebook jupyter detecta que una linea inicia por signo de excalacion entonces envía a ejecutar el comando al sistema operativo"
   ]
  },
  {
   "cell_type": "code",
   "execution_count": null,
   "metadata": {},
   "outputs": [],
   "source": [
    "!cat olympics.csv"
   ]
  },
  {
   "cell_type": "code",
   "execution_count": null,
   "metadata": {},
   "outputs": [],
   "source": [
    "df = pd.read_csv('olympics.csv')\n",
    "df.head()"
   ]
  },
  {
   "cell_type": "markdown",
   "metadata": {},
   "source": [
    "- Volvamos a leer el archivo pero esa vez ajustando el inicio del titulo de las columnas con skiprows ignoro la primera fila y con index_col ajustamos el indice de cada fila a 0, indicando que la columna 0 es la que será utilizada como indice(llave ppal en bd pero que se spuede repetir :), es la calave del registro y no es unica en el dframe), en eset caso el indice será el país."
   ]
  },
  {
   "cell_type": "code",
   "execution_count": null,
   "metadata": {},
   "outputs": [],
   "source": [
    "df = pd.read_csv('olympics.csv', index_col = 0, skiprows=1)\n",
    "df.head()"
   ]
  },
  {
   "cell_type": "code",
   "execution_count": null,
   "metadata": {},
   "outputs": [],
   "source": [
    "df.columns"
   ]
  },
  {
   "cell_type": "code",
   "execution_count": null,
   "metadata": {},
   "outputs": [],
   "source": [
    "type(df.columns) \n",
    "# es tipo lista"
   ]
  },
  {
   "cell_type": "markdown",
   "metadata": {},
   "source": [
    "# Starting cleaning"
   ]
  },
  {
   "cell_type": "code",
   "execution_count": null,
   "metadata": {},
   "outputs": [],
   "source": [
    "# los nombres de las columnas (ver arriba), no son muy explicitos y por ejemplo 01 ! es oro, 02 ! es plata,\n",
    "# items repetidos son 01 !.1 etc\n",
    "\n",
    "\n",
    "for col in df.columns:\n",
    "    # recuende que la columna 0 y 1 son el pais y la cantidad de juegos disputados\n",
    "    if col[:2]=='01':\n",
    "        df.rename(columns={col:'Gold' + col[4:]}, inplace=True)\n",
    "    if col[:2]=='02':\n",
    "        df.rename(columns={col:'Silver' + col[4:]}, inplace=True)\n",
    "    if col[:2]=='03':\n",
    "        df.rename(columns={col:'Bronze' + col[4:]}, inplace=True)\n",
    "    if col[:1]=='№':\n",
    "        df.rename(columns={col:'#' + col[1:]}, inplace=True) \n",
    "\n",
    "df.head()"
   ]
  },
  {
   "cell_type": "markdown",
   "metadata": {},
   "source": [
    "# Querying a DataFrame"
   ]
  },
  {
   "cell_type": "code",
   "execution_count": null,
   "metadata": {},
   "outputs": [],
   "source": [
    "df['Gold'] > 0\n",
    "#note como el resultado es una serie donde a la vez se indexa para decir por cada index si cumple o no la condiciòn"
   ]
  },
  {
   "cell_type": "code",
   "execution_count": null,
   "metadata": {},
   "outputs": [],
   "source": [
    "only_gold = df.where(df['Gold'] > 0)\n",
    "only_gold.head()"
   ]
  },
  {
   "cell_type": "code",
   "execution_count": null,
   "metadata": {},
   "outputs": [],
   "source": [
    "only_gold['Gold'].count()"
   ]
  },
  {
   "cell_type": "code",
   "execution_count": null,
   "metadata": {},
   "outputs": [],
   "source": [
    "df['Gold'].count()"
   ]
  },
  {
   "cell_type": "code",
   "execution_count": null,
   "metadata": {},
   "outputs": [],
   "source": [
    "only_gold = only_gold.dropna()\n",
    "only_gold.head()"
   ]
  },
  {
   "cell_type": "code",
   "execution_count": null,
   "metadata": {},
   "outputs": [],
   "source": [
    "#pero para que se evite aplicar primero el boolean mask y luego dropna entonces toma tu shortcut\n",
    "only_gold = df[df['Gold'] > 0]\n",
    "only_gold.head()"
   ]
  },
  {
   "cell_type": "code",
   "execution_count": null,
   "metadata": {},
   "outputs": [],
   "source": [
    "# recuerde qe como tenemos summer games y tenemos la columna gold.1 winter games entonces por eso el \"or operator\"\n",
    "len(df[(df['Gold'] > 0) | (df['Gold.1'] > 0)])"
   ]
  },
  {
   "cell_type": "code",
   "execution_count": null,
   "metadata": {},
   "outputs": [],
   "source": [
    "df[(df['Gold.1'] > 0) & (df['Gold'] == 0)] \n",
    "#note como para gold1 si hay oros porque fueron las que se hganaron el winter games"
   ]
  },
  {
   "cell_type": "markdown",
   "metadata": {},
   "source": [
    "# Write a query to return all of the names of people who bought products worth more than $3.00."
   ]
  },
  {
   "cell_type": "code",
   "execution_count": null,
   "metadata": {},
   "outputs": [],
   "source": [
    "purchase_1 = pd.Series({'Name': 'Chris',\n",
    "                        'Item Purchased': 'Dog Food',\n",
    "                        'Cost': 22.50})\n",
    "purchase_2 = pd.Series({'Name': 'Kevyn',\n",
    "                        'Item Purchased': 'Kitty Litter',\n",
    "                        'Cost': 2.50})\n",
    "purchase_3 = pd.Series({'Name': 'Vinod',\n",
    "                        'Item Purchased': 'Bird Seed',\n",
    "                        'Cost': 5.00})\n",
    "\n",
    "df2 = pd.DataFrame([purchase_1, purchase_2, purchase_3], index=['Store 1', 'Store 1', 'Store 2'])\n",
    "df2\n",
    "df2['Name'][df2['Cost']>3]"
   ]
  },
  {
   "cell_type": "markdown",
   "metadata": {},
   "source": [
    "# Indexing Dataframes"
   ]
  },
  {
   "cell_type": "code",
   "execution_count": null,
   "metadata": {},
   "outputs": [],
   "source": [
    "df.head()"
   ]
  },
  {
   "cell_type": "code",
   "execution_count": null,
   "metadata": {},
   "outputs": [],
   "source": [
    "# df.index: The index (row labels) of the DataFrame. Es una lista \n",
    "\n",
    "df['country'] = df.index\n",
    "\n",
    "#colocando a la columna gold como index\n",
    "df = df.set_index('Gold')\n",
    "df.head()"
   ]
  },
  {
   "cell_type": "code",
   "execution_count": null,
   "metadata": {},
   "outputs": [],
   "source": [
    "df = df.reset_index()\n",
    "# vuelde el indice actual como una columna y crea otra columna numerica incremental como el nuevo indice que representará el \n",
    "# registro\n",
    "df.head()"
   ]
  },
  {
   "cell_type": "code",
   "execution_count": null,
   "metadata": {},
   "outputs": [],
   "source": [
    "df = pd.read_csv('census.csv')\n",
    "df.head()"
   ]
  },
  {
   "cell_type": "code",
   "execution_count": null,
   "metadata": {},
   "outputs": [],
   "source": [
    "# viendo los diferentes valores que puede tener una columna similar a UN DISTINCT EN SQL\n",
    "df['SUMLEV'].unique()"
   ]
  },
  {
   "cell_type": "code",
   "execution_count": null,
   "metadata": {},
   "outputs": [],
   "source": [
    "# More examples of filtering\n",
    "df=df[df['SUMLEV'] == 50]\n",
    "df.head()"
   ]
  },
  {
   "cell_type": "code",
   "execution_count": null,
   "metadata": {},
   "outputs": [],
   "source": [
    "# creando un listado de las columnas que se desean mantener\n",
    "columns_to_keep = ['STNAME',\n",
    "                   'CTYNAME',\n",
    "                   'BIRTHS2010',\n",
    "                   'BIRTHS2011',\n",
    "                   'BIRTHS2012',\n",
    "                   'BIRTHS2013',\n",
    "                   'BIRTHS2014',\n",
    "                   'BIRTHS2015',\n",
    "                   'POPESTIMATE2010',\n",
    "                   'POPESTIMATE2011',\n",
    "                   'POPESTIMATE2012',\n",
    "                   'POPESTIMATE2013',\n",
    "                   'POPESTIMATE2014',\n",
    "                   'POPESTIMATE2015']\n",
    "\n",
    "# Pasando el listado de columnas que deseamos\n",
    "df = df[columns_to_keep]\n",
    "df.head()"
   ]
  },
  {
   "cell_type": "code",
   "execution_count": null,
   "metadata": {},
   "outputs": [],
   "source": [
    "# Creando indices compuestos, similar a llaves compuestas en SQL\n",
    "df = df.set_index(['STNAME', 'CTYNAME'])\n",
    "df.head()"
   ]
  },
  {
   "cell_type": "code",
   "execution_count": null,
   "metadata": {},
   "outputs": [],
   "source": [
    "# Buscando sobre el index compuesto primero por el  statename Michigan Y luego por el ctyName = 'Washtenaw County'\n",
    "df.loc['Michigan', 'Washtenaw County']"
   ]
  },
  {
   "cell_type": "markdown",
   "metadata": {},
   "source": [
    "- Ejemplo de como hacer un query sobre dos valores que se deseen comparar del mismo estado, note que se pasa como una lista de tuplas"
   ]
  },
  {
   "cell_type": "code",
   "execution_count": null,
   "metadata": {},
   "outputs": [],
   "source": [
    "df.loc[ [('Michigan', 'Washtenaw County'),\n",
    "         ('Michigan', 'Wayne County')] ]"
   ]
  },
  {
   "cell_type": "markdown",
   "metadata": {},
   "source": [
    "# Exercise: \n",
    "- Reindex the purchase records DataFrame to be indexed hierarchically, first by store, then by person. Name these indexes 'Location' and 'Name'. Then add a new entry to it with the value of **Name: 'Kevyn', Item Purchased: 'Kitty Food', Cost: 3.00 Location: 'Store 2'**"
   ]
  },
  {
   "cell_type": "code",
   "execution_count": null,
   "metadata": {},
   "outputs": [],
   "source": [
    "purchase_1 = pd.Series({'Name': 'Chris',\n",
    "                        'Item Purchased': 'Dog Food',\n",
    "                        'Cost': 22.50})\n",
    "purchase_2 = pd.Series({'Name': 'Kevyn',\n",
    "                        'Item Purchased': 'Kitty Litter',\n",
    "                        'Cost': 2.50})\n",
    "purchase_3 = pd.Series({'Name': 'Vinod',\n",
    "                        'Item Purchased': 'Bird Seed',\n",
    "                        'Cost': 5.00})\n",
    "\n",
    "df3 = pd.DataFrame([purchase_1, purchase_2, purchase_3], index=['Store 1', 'Store 1', 'Store 2'])\n",
    "\n",
    "\n",
    "# Your answer here\n",
    "\n",
    "df3['Location'] = df3.index\n",
    "df3 = df3.set_index(['Location', 'Name'])\n",
    "df3 = df3.append(pd.Series(data={'Cost': 3.00, 'Item Purchased': 'Kitty Food'}, name=('Store 2', 'Kevyn')))\n",
    "df3.head()"
   ]
  },
  {
   "cell_type": "markdown",
   "metadata": {},
   "source": [
    "# Missing values\n",
    "- Missing values es muy comun en data cleaning process"
   ]
  },
  {
   "cell_type": "code",
   "execution_count": null,
   "metadata": {},
   "outputs": [],
   "source": [
    "df = pd.read_csv('log.csv')\n",
    "df"
   ]
  },
  {
   "cell_type": "code",
   "execution_count": null,
   "metadata": {},
   "outputs": [],
   "source": [
    "df.fillna?"
   ]
  },
  {
   "cell_type": "code",
   "execution_count": null,
   "metadata": {},
   "outputs": [],
   "source": [
    "df = df.set_index('time')\n",
    "df = df.sort_index()\n",
    "df"
   ]
  },
  {
   "cell_type": "code",
   "execution_count": null,
   "metadata": {},
   "outputs": [],
   "source": [
    "df = df.reset_index()\n",
    "df = df.set_index(['time', 'user'])\n",
    "df"
   ]
  },
  {
   "cell_type": "code",
   "execution_count": null,
   "metadata": {},
   "outputs": [],
   "source": [
    "df = df.fillna(method='ffill')\n",
    "df.head()"
   ]
  }
 ],
 "metadata": {
  "kernelspec": {
   "display_name": "Python 3",
   "language": "python",
   "name": "python3"
  },
  "language_info": {
   "codemirror_mode": {
    "name": "ipython",
    "version": 3
   },
   "file_extension": ".py",
   "mimetype": "text/x-python",
   "name": "python",
   "nbconvert_exporter": "python",
   "pygments_lexer": "ipython3",
   "version": "3.7.1"
  }
 },
 "nbformat": 4,
 "nbformat_minor": 1
}
