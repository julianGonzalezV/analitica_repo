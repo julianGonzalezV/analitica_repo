{
 "cells": [
  {
   "cell_type": "code",
   "execution_count": 3,
   "metadata": {},
   "outputs": [
    {
     "name": "stdout",
     "output_type": "stream",
     "text": [
      "[[1. 1. 1.]\n",
      " [1. 1. 1.]]\n",
      "[[1 2 3]\n",
      " [4 5 6]]\n",
      "(array([1]), array([0]))\n",
      "[[5, 3, 1], [6, 4, 2]]\n"
     ]
    }
   ],
   "source": [
    "import numpy as np\n",
    "# Respuesta 7-1: Funcion de unos de \"x\" filas y \"y\" columnas\n",
    "def matriz1(x, y):\n",
    "    return np.ones((x, y))\n",
    "r71 = matriz1(2,3)\n",
    "print(r71)    \n",
    "\n",
    "# Respuesta 7-2: Dado x filas y Y columnas y una lista l \n",
    "# entonces retornar una matriz de de la forma x,y\n",
    "def matriz2(x,y,l):\n",
    "    return np.asarray(l).reshape(x, y)\n",
    "    \n",
    "r72 = matriz2(2,3,[1,2,3,4,5,6])\n",
    "print(r72)\n",
    "\n",
    "# Respuesta 7-3\n",
    "def getLocation(value, matriz):\n",
    "    return np.where(matriz == value)\n",
    "r73 = getLocation(4, r72)\n",
    "\n",
    "print(r73)\n",
    "\n",
    "# Respuesta 7-4\n",
    "def reverseMatriz(matriz):\n",
    "    narr = []\n",
    "    for row in matriz:\n",
    "        narr.append(row[::-1])\n",
    "    return narr\n",
    "# tes        \n",
    "r74 = reverseMatriz([[1,3,5],[2,4,6]])\n",
    "print(r74)"
   ]
  },
  {
   "cell_type": "code",
   "execution_count": 2,
   "metadata": {},
   "outputs": [
    {
     "name": "stdout",
     "output_type": "stream",
     "text": [
      "1\n",
      "4\n",
      "9\n",
      "16\n",
      "25\n"
     ]
    }
   ],
   "source": [
    "# Respuesta 8 \n",
    "iterable = [1,2,3,4,5]\n",
    "def addition(n): \n",
    "    return n + n \n",
    "\n",
    "# Funcion que dada un iterable y una función entonces aplica la \n",
    "# funcion a cada elemento de iterable\n",
    "def f(iterInput, functionInput):\n",
    "    return list(map(functionInput,iterInput))\n",
    "\n",
    "for answer in f(iterable, lambda x: x*x):\n",
    "    print(answer)\n"
   ]
  }
 ],
 "metadata": {
  "kernelspec": {
   "display_name": "Python 3",
   "language": "python",
   "name": "python3"
  },
  "language_info": {
   "codemirror_mode": {
    "name": "ipython",
    "version": 3
   },
   "file_extension": ".py",
   "mimetype": "text/x-python",
   "name": "python",
   "nbconvert_exporter": "python",
   "pygments_lexer": "ipython3",
   "version": "3.7.1"
  }
 },
 "nbformat": 4,
 "nbformat_minor": 2
}
