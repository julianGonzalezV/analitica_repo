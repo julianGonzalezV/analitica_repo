{
 "cells": [
  {
   "cell_type": "markdown",
   "metadata": {
    "collapsed": true
   },
   "source": [
    "# Hacker News.\n",
    "- Hacker new es una app web donde las personas colocan post acerca de una opinion, noticia etc y el resto del mundo opina a respecto\n",
    "\n",
    "A continuación verá como leer un archivo y almacenar cada linea en un list de list, gracias al método reader(x)"
   ]
  },
  {
   "cell_type": "code",
   "execution_count": 1,
   "metadata": {
    "collapsed": false
   },
   "outputs": [
    {
     "name": "stdout",
     "output_type": "stream",
     "text": [
      "[['id', 'title', 'url', 'num_points', 'num_comments', 'author', 'created_at'], ['12224879', 'Interactive Dynamic Video', 'http://www.interactivedynamicvideo.com/', '386', '52', 'ne0phyte', '8/4/2016 11:52'], ['10975351', 'How to Use Open Source and Shut the Fuck Up at the Same Time', 'http://hueniverse.com/2016/01/26/how-to-use-open-source-and-shut-the-fuck-up-at-the-same-time/', '39', '10', 'josep2', '1/26/2016 19:30'], ['11964716', \"Florida DJs May Face Felony for April Fools' Water Joke\", 'http://www.thewire.com/entertainment/2013/04/florida-djs-april-fools-water-joke/63798/', '2', '1', 'vezycash', '6/23/2016 22:20'], ['11919867', 'Technology ventures: From Idea to Enterprise', 'https://www.amazon.com/Technology-Ventures-Enterprise-Thomas-Byers/dp/0073523429', '3', '1', 'hswarna', '6/17/2016 0:01']]\n"
     ]
    }
   ],
   "source": [
    "from csv import reader\n",
    "f = open(\"hacker_news.csv\",\"r\") \n",
    "readed_file = reader(f)\n",
    "hn = list(readed_file)\n",
    "print(hn[0:5])"
   ]
  },
  {
   "cell_type": "markdown",
   "metadata": {},
   "source": [
    "Eliminando el header del listado hn, al final se imprime dicha cabecera(header)"
   ]
  },
  {
   "cell_type": "code",
   "execution_count": 2,
   "metadata": {
    "collapsed": false
   },
   "outputs": [
    {
     "name": "stdout",
     "output_type": "stream",
     "text": [
      "['id', 'title', 'url', 'num_points', 'num_comments', 'author', 'created_at']\n",
      "[['12224879', 'Interactive Dynamic Video', 'http://www.interactivedynamicvideo.com/', '386', '52', 'ne0phyte', '8/4/2016 11:52'], ['10975351', 'How to Use Open Source and Shut the Fuck Up at the Same Time', 'http://hueniverse.com/2016/01/26/how-to-use-open-source-and-shut-the-fuck-up-at-the-same-time/', '39', '10', 'josep2', '1/26/2016 19:30'], ['11964716', \"Florida DJs May Face Felony for April Fools' Water Joke\", 'http://www.thewire.com/entertainment/2013/04/florida-djs-april-fools-water-joke/63798/', '2', '1', 'vezycash', '6/23/2016 22:20'], ['11919867', 'Technology ventures: From Idea to Enterprise', 'https://www.amazon.com/Technology-Ventures-Enterprise-Thomas-Byers/dp/0073523429', '3', '1', 'hswarna', '6/17/2016 0:01'], ['10301696', 'Note by Note: The Making of Steinway L1037 (2007)', 'http://www.nytimes.com/2007/11/07/movies/07stein.html?_r=0', '8', '2', 'walterbell', '9/30/2015 4:12']]\n"
     ]
    }
   ],
   "source": [
    "headers = hn[0]\n",
    "hn = hn[1:]\n",
    "print(headers)\n",
    "print(hn[0:5])"
   ]
  },
  {
   "cell_type": "markdown",
   "metadata": {},
   "source": [
    "# Data cleaning / filtering"
   ]
  },
  {
   "cell_type": "code",
   "execution_count": 3,
   "metadata": {
    "collapsed": false
   },
   "outputs": [
    {
     "name": "stdout",
     "output_type": "stream",
     "text": [
      "20100\n",
      "1744\n",
      "1162\n",
      "17194\n",
      "[['12296411', 'Ask HN: How to improve my personal website?', '', '2', '6', 'ahmedbaracat', '8/16/2016 9:55'], ['10610020', 'Ask HN: Am I the only one outraged by Twitter shutting down share counts?', '', '28', '29', 'tkfx', '11/22/2015 13:43'], ['11610310', 'Ask HN: Aby recent changes to CSS that broke mobile?', '', '1', '1', 'polskibus', '5/2/2016 10:14']]\n"
     ]
    }
   ],
   "source": [
    "ask_posts = []\n",
    "show_posts = []\n",
    "other_posts = []\n",
    "\n",
    "for elem in hn:\n",
    "    title = elem[1]\n",
    "    if title.lower().startswith('ask hn'):\n",
    "        ask_posts.append(elem)\n",
    "    elif title.lower().startswith('show hn'):\n",
    "        show_posts.append(elem)\n",
    "    else:\n",
    "        other_posts.append(elem)\n",
    "        \n",
    "print(len(hn))\n",
    "print(len(ask_posts))\n",
    "print(len(show_posts))\n",
    "print(len(other_posts))\n",
    "print(ask_posts[0:3])\n",
    "    \n",
    "    "
   ]
  },
  {
   "cell_type": "markdown",
   "metadata": {},
   "source": [
    "- Calculatin the average number of comments for Ask and show posts:\n",
    "Como resultado podemos ver que la cantidad promedio de comentarios en post de tipo ASK es mayor que los de tipo SHOW"
   ]
  },
  {
   "cell_type": "code",
   "execution_count": 4,
   "metadata": {
    "collapsed": false
   },
   "outputs": [
    {
     "name": "stdout",
     "output_type": "stream",
     "text": [
      "avg_show_comments =>  10.31669535283993\n",
      "avg_ask_comments =>  14.038417431192661\n"
     ]
    }
   ],
   "source": [
    "\n",
    "def average_by_col(input_list, index):\n",
    "    total_by_column = 0\n",
    "    for elem in input_list:\n",
    "        total_by_column += int(elem[index]) \n",
    "    return (total_by_column)/len(input_list)\n",
    "\n",
    "avg_show_comments = average_by_col(show_posts,4)\n",
    "avg_ask_comments = average_by_col(ask_posts,4)\n",
    "print('avg_show_comments => ',avg_show_comments)\n",
    "print('avg_ask_comments => ',avg_ask_comments)"
   ]
  },
  {
   "cell_type": "markdown",
   "metadata": {},
   "source": [
    "# 5. Finding the Amount of Ask Posts and Comments by Hour Created\n",
    "La idea es encontrar si existe una relación entre la hora en que se coloca un post y la cantidad de comentarios que se recibe, para ello entonces:\n",
    "- Calculate the amount of ask posts created in each hour of the day, along with the number of comments received.\n",
    "- Calculate the average number of comments ask posts receive by hour created."
   ]
  },
  {
   "cell_type": "code",
   "execution_count": 5,
   "metadata": {
    "collapsed": false
   },
   "outputs": [],
   "source": [
    "import datetime as dt\n",
    "result_list = []\n",
    "for elem in ask_posts:\n",
    "    result_list.append([elem[6],int(elem[4])])\n",
    "\n",
    "\n",
    "datetime_str = '09/19/18 13:55:26'\n",
    "\n",
    "#strptime: De un string con formato fecha convierte a objeto datetime\n",
    "# datetime_object = dt.datetime.strptime(datetime_str, '%m/%d/%y %H:%M:%S')\n",
    "# print(datetime_object)\n",
    "# print(type(datetime_object))\n",
    "\n",
    "#strftime: De un objeto datetime convierte a string\n",
    "# datetime_object2 = datetime_object.strftime('%m/%d/%y')\n",
    "# print(datetime_object2)\n",
    "# print(type(datetime_object2))\n",
    "\n",
    "#print(result_list[0:3])\n",
    "\n",
    "counts_by_hour = {}\n",
    "comments_by_hour = {}\n",
    "\n",
    "for pair in result_list:\n",
    "    date_time = dt.datetime.strptime(pair[0],'%m/%d/%Y %H:%M')\n",
    "    time = date_time.strftime('%H')\n",
    "    if time in counts_by_hour:\n",
    "        counts_by_hour[time] += 1\n",
    "        comments_by_hour[time] += pair[1]\n",
    "    else:\n",
    "        counts_by_hour[time] = 1\n",
    "        comments_by_hour[time] = pair[1]\n",
    "#print(counts_by_hour)\n",
    "#print(comments_by_hour)\n"
   ]
  },
  {
   "cell_type": "markdown",
   "metadata": {},
   "source": [
    "# 6. Calculating the Average Number of Comments for Ask HN Posts by Hour\n"
   ]
  },
  {
   "cell_type": "code",
   "execution_count": 6,
   "metadata": {
    "collapsed": false
   },
   "outputs": [
    {
     "name": "stdout",
     "output_type": "stream",
     "text": [
      "[['06', 9.022727272727273], ['11', 11.051724137931034], ['23', 7.985294117647059], ['01', 11.383333333333333], ['10', 13.440677966101696], ['19', 10.8], ['12', 9.41095890410959], ['15', 38.5948275862069], ['08', 10.25], ['13', 14.741176470588234]]\n"
     ]
    }
   ],
   "source": [
    "avg_by_hour = []\n",
    "for key in comments_by_hour:\n",
    "    avg_by_hour.append([key, comments_by_hour[key]/counts_by_hour[key]])\n",
    "print(avg_by_hour[0:10])"
   ]
  },
  {
   "cell_type": "markdown",
   "metadata": {},
   "source": [
    "# 7. Sorting and Printing Values from a List of Lists"
   ]
  },
  {
   "cell_type": "code",
   "execution_count": 13,
   "metadata": {
    "collapsed": false
   },
   "outputs": [
    {
     "name": "stdout",
     "output_type": "stream",
     "text": [
      "15:00: 38.59 average comments per post\n",
      "02:00: 23.81 average comments per post\n",
      "20:00: 21.52 average comments per post\n",
      "16:00: 16.80 average comments per post\n",
      "21:00: 16.01 average comments per post\n"
     ]
    }
   ],
   "source": [
    "swap_avg_by_hour = []\n",
    "for par in avg_by_hour:\n",
    "    swap_avg_by_hour.append([par[1],par[0]])\n",
    "\n",
    "#print(swap_avg_by_hour[0:5])\n",
    "\n",
    "sorted_swap = sorted(swap_avg_by_hour,reverse=True)\n",
    "#print(sorted_swap[0:5])\n",
    "for elem in sorted_swap[0:5]:\n",
    "    date_time = dt.datetime.strptime(elem[1],\"%H\")\n",
    "    #print(time)\n",
    "    str_time = date_time.time().strftime('%H:%M')\n",
    "    comments =  \"{:.2f}\".format(elem[0])\n",
    "    formatted = \"{hour}: {comments_num} average comments per post\".format(hour=str_time, comments_num=comments)\n",
    "    print(formatted)\n"
   ]
  }
 ],
 "metadata": {
  "kernelspec": {
   "display_name": "Python 3",
   "language": "python",
   "name": "python3"
  },
  "language_info": {
   "codemirror_mode": {
    "name": "ipython",
    "version": 3
   },
   "file_extension": ".py",
   "mimetype": "text/x-python",
   "name": "python",
   "nbconvert_exporter": "python",
   "pygments_lexer": "ipython3",
   "version": "3.4.3"
  }
 },
 "nbformat": 4,
 "nbformat_minor": 2
}
