{
 "cells": [
  {
   "cell_type": "markdown",
   "metadata": {
    "collapsed": true
   },
   "source": [
    "# Profitable apps\n",
    "This project shows the profitable apps given all the data reclolected from movile apps"
   ]
  },
  {
   "cell_type": "code",
   "execution_count": 1,
   "metadata": {
    "collapsed": true
   },
   "outputs": [],
   "source": [
    "def explore_data(dataset, start, end, rows_and_columns=False):\n",
    "    dataset_slice = dataset[start:end]    \n",
    "    for row in dataset_slice:\n",
    "        print(row)\n",
    "        print('\\n') # adds a new (empty) line after each row\n",
    "\n",
    "    if rows_and_columns:\n",
    "        print('Number of rows:', len(dataset))\n",
    "        print('Number of columns:', len(dataset[0]))"
   ]
  },
  {
   "cell_type": "code",
   "execution_count": 2,
   "metadata": {
    "collapsed": false
   },
   "outputs": [],
   "source": [
    "opened_file1 = open(\"AppleStore.csv\", \"r\", encoding=\"utf-8\")\n",
    "from csv import reader\n",
    "readed_file1 = reader(opened_file1)\n",
    "apple_store_data = list(readed_file1)\n",
    "#print(apple_store_data[1:5])\n",
    "\n",
    "opened_file2 = open(\"googleplaystore.csv\", \"r\", encoding=\"utf-8\")\n",
    "readed_file2 = reader(opened_file2)\n",
    "google_store_data = list(readed_file2)\n",
    "#print(google_store_data[1:5])"
   ]
  },
  {
   "cell_type": "code",
   "execution_count": 3,
   "metadata": {
    "collapsed": false
   },
   "outputs": [],
   "source": [
    "#print(explore_data(apple_store_data, 1, 3))"
   ]
  },
  {
   "cell_type": "markdown",
   "metadata": {},
   "source": [
    "# Ver duplicados\n",
    "Note como si hay duplicados y los debeme eliminar"
   ]
  },
  {
   "cell_type": "code",
   "execution_count": 4,
   "metadata": {
    "collapsed": false
   },
   "outputs": [
    {
     "name": "stdout",
     "output_type": "stream",
     "text": [
      "['Instagram', 'SOCIAL', '4.5', '66577313', 'Varies with device', '1,000,000,000+', 'Free', '0', 'Teen', 'Social', 'July 31, 2018', 'Varies with device', 'Varies with device']\n",
      "\n",
      "\n",
      "['Instagram', 'SOCIAL', '4.5', '66577446', 'Varies with device', '1,000,000,000+', 'Free', '0', 'Teen', 'Social', 'July 31, 2018', 'Varies with device', 'Varies with device']\n",
      "\n",
      "\n",
      "['Instagram', 'SOCIAL', '4.5', '66577313', 'Varies with device', '1,000,000,000+', 'Free', '0', 'Teen', 'Social', 'July 31, 2018', 'Varies with device', 'Varies with device']\n",
      "\n",
      "\n",
      "['Instagram', 'SOCIAL', '4.5', '66509917', 'Varies with device', '1,000,000,000+', 'Free', '0', 'Teen', 'Social', 'July 31, 2018', 'Varies with device', 'Varies with device']\n",
      "\n",
      "\n"
     ]
    }
   ],
   "source": [
    "for data in google_store_data[1:]:\n",
    "    name = data[0]\n",
    "    if name == 'Instagram':\n",
    "        print(data)\n",
    "        print('\\n')\n",
    "    "
   ]
  },
  {
   "cell_type": "markdown",
   "metadata": {
    "collapsed": true
   },
   "source": [
    "# remove duplicated entries\n",
    "Compare por ejemplo con los repetidos de instagram y note como si se elimnaron los repetidos y además quedí el de más alto puntaje, es decir el último\n",
    "- el tamaño del dicccion rio debe dar al final 9659"
   ]
  },
  {
   "cell_type": "code",
   "execution_count": 7,
   "metadata": {
    "collapsed": true
   },
   "outputs": [],
   "source": [
    "#del(google_store_data[10473])# ejecutelo solo una vez"
   ]
  },
  {
   "cell_type": "code",
   "execution_count": 9,
   "metadata": {
    "collapsed": false
   },
   "outputs": [
    {
     "name": "stdout",
     "output_type": "stream",
     "text": [
      "66577446.0\n",
      "10841\n",
      "9659\n"
     ]
    },
    {
     "data": {
      "text/plain": [
       "\"\\n# al parecer apple_store_data no requiere esta limpieza\\n# pues sus datos son únicos\\nprint('IOS')\\nios_reviews_max = last_updated(apple_store_data,1) \\nprint(len(apple_store_data))#antes\\nprint(len(ios_reviews_max))#despues\\n\\n\""
      ]
     },
     "execution_count": 9,
     "metadata": {},
     "output_type": "execute_result"
    }
   ],
   "source": [
    "def last_updated(data_list, name_index, recently_column):\n",
    "    reviews_max = {}\n",
    "    for data in data_list[1:]:\n",
    "        #print(data)\n",
    "        name = data[name_index]\n",
    "        n_reviews = float(data[recently_column])\n",
    "        if name in reviews_max and reviews_max[name] < n_reviews:        \n",
    "            reviews_max[name] = n_reviews\n",
    "\n",
    "        if name not in reviews_max:\n",
    "            reviews_max[name] = n_reviews\n",
    "    return reviews_max\n",
    "\n",
    "android_reviews_max = last_updated(google_store_data,0,3)        \n",
    "print(android_reviews_max['Instagram'])\n",
    "print(len(google_store_data))#antes\n",
    "print(len(android_reviews_max))#despues\n",
    "\n",
    "\"\"\"\n",
    "# al parecer apple_store_data no requiere esta limpieza\n",
    "# pues sus datos son únicos\n",
    "print('IOS')\n",
    "ios_reviews_max = last_updated(apple_store_data,1) \n",
    "print(len(apple_store_data))#antes\n",
    "print(len(ios_reviews_max))#despues\n",
    "\n",
    "\"\"\"\n"
   ]
  },
  {
   "cell_type": "code",
   "execution_count": 10,
   "metadata": {
    "collapsed": false
   },
   "outputs": [
    {
     "name": "stdout",
     "output_type": "stream",
     "text": [
      "android Con duplicados =>  10841\n",
      "android Sin duplicados =>  9659\n"
     ]
    }
   ],
   "source": [
    "\n",
    "\n",
    "android_clean = []\n",
    "android_already_added = []\n",
    "for data in google_store_data[1:]:\n",
    "    name = data[0]\n",
    "    n_reviews = float(data[3])\n",
    "    if android_reviews_max[name] ==  n_reviews and name not in android_already_added:\n",
    "        android_clean.append(data)\n",
    "        android_already_added.append(name)\n",
    "        \n",
    "print('android Con duplicados => ',len(google_store_data))\n",
    "print('android Sin duplicados => ',len(android_clean))\n",
    "\n",
    "\n"
   ]
  },
  {
   "cell_type": "markdown",
   "metadata": {},
   "source": [
    "- Note como hay apps de otro idioma pero el objetivo son solo las apps en inglés, debemos limpiar acá también :) "
   ]
  },
  {
   "cell_type": "code",
   "execution_count": 11,
   "metadata": {
    "collapsed": false
   },
   "outputs": [
    {
     "name": "stdout",
     "output_type": "stream",
     "text": [
      "['中国語 AQリスニング', 'FAMILY', 'NaN', '21', '17M', '5,000+', 'Free', '0', 'Everyone', 'Education', 'June 22, 2016', '2.4.0', '4.0 and up']\n",
      "['لعبة تقدر تربح DZ', 'FAMILY', '4.2', '238', '6.8M', '10,000+', 'Free', '0', 'Everyone', 'Education', 'November 18, 2016', '6.0.0.0', '4.1 and up']\n",
      "\n",
      "\n",
      "Apple apps => \n",
      "['445375097', '爱奇艺PPS -《欢乐颂2》电视剧热播', '224617472', 'USD', '0.0', '14844', '0', '4.0', '0.0', '6.3.3', '17+', 'Entertainment', '38', '5', '3', '1']\n",
      "['1120021683', '【脱出ゲーム】絶対に最後までプレイしないで 〜謎解き＆ブロックパズル〜', '77551616', 'USD', '0.0', '0', '0', '0.0', '0.0', '1.3', '12+', 'Games', '38', '0', '1', '1']\n"
     ]
    }
   ],
   "source": [
    "print(android_clean[4412])\n",
    "print(android_clean[7940])\n",
    "print('\\n')\n",
    "print('Apple apps => ')\n",
    "print(apple_store_data[814])\n",
    "print(apple_store_data[6732])"
   ]
  },
  {
   "cell_type": "markdown",
   "metadata": {},
   "source": [
    "-Una forma de identificar el idioma en que lo escribieron puede ser detectando el entero UNICODE que representa el string "
   ]
  },
  {
   "cell_type": "code",
   "execution_count": 12,
   "metadata": {
    "collapsed": false
   },
   "outputs": [
    {
     "name": "stdout",
     "output_type": "stream",
     "text": [
      "97\n",
      "90\n",
      "53\n",
      "29233\n"
     ]
    }
   ],
   "source": [
    "print(ord('a'))\n",
    "print(ord('Z'))\n",
    "print(ord('5'))\n",
    "print(ord('爱'))"
   ]
  },
  {
   "cell_type": "markdown",
   "metadata": {},
   "source": [
    "- Function that takes in a string and returns False if there's any character in the string that doesn't belong to the set of common English characters, otherwise it returns True"
   ]
  },
  {
   "cell_type": "code",
   "execution_count": 13,
   "metadata": {
    "collapsed": false
   },
   "outputs": [
    {
     "name": "stdout",
     "output_type": "stream",
     "text": [
      "common_english_v1 =>  False\n",
      "common_english_v2 =>  True\n",
      "common_english_v2 =>  False\n"
     ]
    }
   ],
   "source": [
    "def common_english(str_input):\n",
    "    for character in str_input:\n",
    "        #print(ord(character))\n",
    "        if ord(character) > 127:\n",
    "            return False\n",
    "    #fuera del for    \n",
    "    return True\n",
    "    \n",
    "\"\"\" \n",
    "print(common_english('Docs To Go™ Free Office Suite'))\n",
    "print(common_english('julian爱'))\n",
    "print(common_english('Instagram')) \n",
    "\"\"\"\n",
    "print('common_english_v1 => ',common_english('Instachat 😜'))\n",
    "\n",
    "def common_english_v2(str_input):\n",
    "    max_err = 0\n",
    "    for character in str_input:\n",
    "        #print(ord(character))\n",
    "        if ord(character) > 127:\n",
    "            max_err += 1  \n",
    "    return max_err <= 3\n",
    "\n",
    "print('common_english_v2 => ',common_english_v2('Instachat 😜'))\n",
    "print('common_english_v2 => ',common_english_v2('Instachat 😜电视剧热播'))\n"
   ]
  },
  {
   "cell_type": "markdown",
   "metadata": {},
   "source": [
    "# Filtrando solo las del idioma inglés\n",
    "- Note que al final se imprimen los tamanios"
   ]
  },
  {
   "cell_type": "code",
   "execution_count": 14,
   "metadata": {
    "collapsed": false
   },
   "outputs": [
    {
     "name": "stdout",
     "output_type": "stream",
     "text": [
      "apple_store_data =>  7197\n",
      "ios_english_apps =>  6183\n",
      "android_clean =>  9659\n",
      "android_english_apps =>  9614\n"
     ]
    }
   ],
   "source": [
    "def filter_english_only(data_list, name_index):\n",
    "    cleaned_list = []\n",
    "    for data in data_list:\n",
    "        if common_english_v2(data[name_index]):\n",
    "            cleaned_list.append(data)\n",
    "    return cleaned_list\n",
    "\n",
    "android_english_apps = filter_english_only(android_clean,0)\n",
    "ios_english_apps = filter_english_only(apple_store_data[1:],1) \n",
    "print('apple_store_data => ',len(apple_store_data[1:]))\n",
    "print('ios_english_apps => ',len(ios_english_apps))\n",
    "\n",
    "print('android_clean => ', len(android_clean))\n",
    "print('android_english_apps => ',len(android_english_apps))"
   ]
  },
  {
   "cell_type": "markdown",
   "metadata": {},
   "source": [
    "# Revome non-free apps"
   ]
  },
  {
   "cell_type": "code",
   "execution_count": 15,
   "metadata": {
    "collapsed": false
   },
   "outputs": [
    {
     "name": "stdout",
     "output_type": "stream",
     "text": [
      "ios_english_apps =>  6183\n",
      "ios_free_apps =>  3222\n",
      "android_english_apps =>  9614\n",
      "android_free_apps =>  8864\n"
     ]
    }
   ],
   "source": [
    "def remove_non_free(data_list, index):\n",
    "    cleaned_list = []\n",
    "    for data in data_list:\n",
    "        price =  data[index].replace('$','')\n",
    "        if float(price)== 0:\n",
    "            cleaned_list.append(data)            \n",
    "    return cleaned_list\n",
    "\n",
    "\n",
    "ios_free_apps = remove_non_free(ios_english_apps,4) \n",
    "print('ios_english_apps => ',len(ios_english_apps))\n",
    "print('ios_free_apps => ',len(ios_free_apps))\n",
    "\n",
    "android_free_apps = remove_non_free(android_english_apps,7)\n",
    "print('android_english_apps => ', len(android_english_apps))\n",
    "print('android_free_apps => ',len(android_free_apps))\n"
   ]
  },
  {
   "cell_type": "markdown",
   "metadata": {},
   "source": [
    "# Detectar mejores apps para invertir\n",
    "La idea es que se detecten cuales son las apps favoritas por ambas plataformas, por ejemplo que se detecte un perfil de aplicación eg las de gamming. Lo anterior con el fin de:\n",
    "- Saber si se hace una versión mínima para android y 6 meses despúes sacar la de ios, porque no tenemos dinero para ambos a la vez sin saber como reacciona el mercado.\n",
    "\n",
    "Cómo hacer lo anterior? R/ Una idea puede ser mediante tablas de frecuencia :O"
   ]
  },
  {
   "cell_type": "markdown",
   "metadata": {
    "collapsed": true
   },
   "source": [
    "- Vamos a calcular las frecuencias de los generos que salen en el archivo "
   ]
  },
  {
   "cell_type": "code",
   "execution_count": 16,
   "metadata": {
    "collapsed": false,
    "scrolled": true
   },
   "outputs": [
    {
     "name": "stdout",
     "output_type": "stream",
     "text": [
      "IOS =>  3222 3222\n",
      "{'Photo & Video': 160, 'Business': 17, 'Music': 66, 'Weather': 28, 'Medical': 6, 'Utilities': 81, 'Games': 1874, 'Entertainment': 254, 'Social Networking': 106, 'Catalogs': 4, 'News': 43, 'Sports': 69, 'Reference': 18, 'Travel': 40, 'Education': 118, 'Food & Drink': 26, 'Navigation': 6, 'Lifestyle': 51, 'Health & Fitness': 65, 'Book': 14, 'Finance': 36, 'Productivity': 56, 'Shopping': 84}\n",
      "Games : 58.1626319056464\n",
      "Entertainment : 7.883302296710134\n",
      "Photo & Video : 4.965859714463075\n",
      "Education : 3.6623215394165176\n",
      "Social Networking : 3.2898820608317867\n",
      "Shopping : 2.6070763500931133\n",
      "Utilities : 2.5139664804469306\n",
      "Sports : 2.1415270018621997\n",
      "Music : 2.048417132216017\n",
      "Health & Fitness : 2.0173805090006227\n",
      "Productivity : 1.7380509000620747\n",
      "Lifestyle : 1.5828677839851035\n",
      "News : 1.3345747982619496\n",
      "Travel : 1.2414649286157668\n",
      "Finance : 1.1173184357541899\n",
      "Weather : 0.8690254500310364\n",
      "Food & Drink : 0.8069522036002481\n",
      "Reference : 0.558659217877095\n",
      "Business : 0.5276225946617009\n",
      "Book : 0.4345127250155184\n",
      "Navigation : 0.186219739292365\n",
      "Medical : 0.186219739292365\n",
      "Catalogs : 0.12414649286157665\n"
     ]
    }
   ],
   "source": [
    "def freq_table(data_list, index, percentage_format = True):\n",
    "    freq_table = {}\n",
    "    list_size = len(data_list)\n",
    "    for data in data_list:\n",
    "        key_column = data[index]\n",
    "        if key_column in freq_table:\n",
    "            freq_table[key_column] += (1/list_size)*100 if percentage_format else 1 \n",
    "        else:\n",
    "            freq_table[key_column] = (1/list_size)*100 if percentage_format else 1\n",
    "    return freq_table\n",
    "\n",
    "# Frequency by category \n",
    "#android_freq_table = freq_table(android_free_apps, 1)\n",
    "#print(android_freq_table)\n",
    "\n",
    "def display_table(dataset, index):\n",
    "    table = freq_table(dataset, index)\n",
    "    table_display = []\n",
    "    for key in table:\n",
    "        #ACA ARMAMOS UNA TUPLA DE TIPO (VAL, KEY)\n",
    "        key_val_as_tuple = (table[key], key)\n",
    "        table_display.append(key_val_as_tuple)\n",
    "\n",
    "    #Usamos el sorted de listas porque no existe para dictionaries\n",
    "    table_sorted = sorted(table_display, reverse = True)\n",
    "    #Print de los dictionaries para que se ven mejor\n",
    "    for entry in table_sorted:\n",
    "        print(entry[1], ':', entry[0])\n",
    "\n",
    "\"\"\"\n",
    "\n",
    "\n",
    "\n",
    "print('\\n')\n",
    "print('Android genres => ')\n",
    "android_freq_table2 = display_table(android_free_apps, 9)\n",
    "print(android_freq_table2)\n",
    "print('\\n')\n",
    "\"\"\"\n",
    "\n",
    "ios_freq_table_f = freq_table(ios_free_apps, 11, False)\n",
    "print('IOS => ',len(ios_free_apps), sum(ios_freq_table_f.values()))\n",
    "print(ios_freq_table_f)\n",
    "ios_freq_table = display_table(ios_free_apps, 11)\n",
    "\n",
    "\n",
    "#print(ios_freq_table_f)\n",
    "#print(ios_freq_table)"
   ]
  },
  {
   "cell_type": "markdown",
   "metadata": {},
   "source": [
    "# Preferencia de los usuarios por genero:\n",
    "\n",
    "# IOS APPS\n",
    "\n",
    "La idea es que se pueda detectar por cada genero que tan identificados los usuarios se sienten, para ello:\n",
    "- En apps Ios se tiene la columna rating_count_tot que es el conteo de calificaciones por cada app\n",
    "- En android sería por la cantidad de descargas"
   ]
  },
  {
   "cell_type": "code",
   "execution_count": 17,
   "metadata": {
    "collapsed": false
   },
   "outputs": [
    {
     "name": "stdout",
     "output_type": "stream",
     "text": [
      "Navigation : 86090.33333333333\n",
      "Reference : 74942.11111111111\n",
      "Social Networking : 71548.34905660375\n",
      "Music : 57326.5303030303\n",
      "Weather : 52279.89285714287\n",
      "Book : 39758.5\n",
      "Food & Drink : 33333.923076923085\n",
      "Finance : 31467.944444444445\n",
      "Photo & Video : 28441.543749999993\n",
      "Travel : 28243.799999999992\n",
      "Shopping : 26919.690476190473\n",
      "Health & Fitness : 23298.01538461538\n",
      "Sports : 23008.89855072465\n",
      "Games : 22788.669690501574\n",
      "News : 21248.023255813954\n",
      "Productivity : 21028.41071428573\n",
      "Utilities : 18684.45679012345\n",
      "Lifestyle : 16485.764705882353\n",
      "Entertainment : 14029.830708661415\n",
      "Business : 7491.117647058824\n",
      "Education : 7003.983050847457\n",
      "Catalogs : 4004.0\n",
      "Medical : 612.0\n",
      "None\n"
     ]
    }
   ],
   "source": [
    "ios_by_genre = freq_table(ios_free_apps, 11, False)\n",
    "#print(ios_by_genre)\n",
    "\n",
    "def sort_dictionary(dictionary):\n",
    "    table_display = []\n",
    "    for key in dictionary:\n",
    "        #ACA ARMAMOS UNA TUPLA DE TIPO (VAL, KEY)\n",
    "        key_val_as_tuple = (dictionary[key], key)\n",
    "        table_display.append(key_val_as_tuple)\n",
    "        #Usamos el sorted de listas porque no existe para dictionaries\n",
    "    table_sorted = sorted(table_display, reverse = True)\n",
    "    #Print de los dictionaries para que se ven mejor\n",
    "    for entry in table_sorted:\n",
    "        print(entry[1], ':', entry[0])\n",
    "\n",
    "ios_user_ratings_by_genre = {}\n",
    "for app in ios_free_apps:\n",
    "    genre = app[11]\n",
    "    rating_count_tot = float(app[5])\n",
    "    if genre in ios_user_ratings_by_genre:\n",
    "        ios_user_ratings_by_genre[genre] += rating_count_tot/ios_by_genre[genre]\n",
    "    else:\n",
    "        ios_user_ratings_by_genre[genre] = rating_count_tot/ios_by_genre[genre]\n",
    "# ios_user_ratings_by_genre este dictionary guarda el promedio de \n",
    "# calificaiones por genero(tipo) de aplication\n",
    "print(sort_dictionary(ios_user_ratings_by_genre))"
   ]
  },
  {
   "cell_type": "markdown",
   "metadata": {},
   "source": [
    " Dado el resultado anterior entonces Navigation es la que mas reviews o calificaciones tiene para IOS con un valor de 86090 y aunque representa el 0.18%\n",
    " de los registros del archivo eso no quiere decir que no es popular, quiere decir por ejemplo otras apps que se repiten en el archivo que genera ruido."
   ]
  },
  {
   "cell_type": "markdown",
   "metadata": {},
   "source": [
    "# Preferencia de los usuarios por genero:\n",
    "\n",
    "# Android APPS"
   ]
  },
  {
   "cell_type": "code",
   "execution_count": 22,
   "metadata": {
    "collapsed": false
   },
   "outputs": [
    {
     "name": "stdout",
     "output_type": "stream",
     "text": [
      "Android Category =>  8864\n",
      "{'HOUSE_AND_HOME': 118027755.38410938, 'SHOPPING': 623748804.896482, 'PERSONALIZATION': 461059418.74938506, 'DATING': 75701115.51806082, 'EVENTS': 22473982.577777773, 'TRAVEL_AND_LOCAL': 1239548648.227245, 'ART_AND_DESIGN': 176068742.1754385, 'PHOTOGRAPHY': 1581347386.0597694, 'PRODUCTIVITY': 1488029050.414371, 'MEDICAL': 10685606.939808294, 'BUSINESS': 151777398.66732082, 'GAME': 1381721703.0718832, 'LIFESTYLE': 127448034.06520125, 'BOOKS_AND_REFERENCE': 777178846.3494719, 'COMMUNICATION': 3408750402.9848027, 'SPORTS': 322529062.26285523, 'TOOLS': 957435324.713795, 'FINANCE': 123005061.03804839, 'EDUCATION': 162521009.70873788, 'ENTERTAINMENT': 1031832169.4117625, 'FOOD_AND_DRINK': 170622935.3512727, 'WEATHER': 449802456.51830906, 'BEAUTY': 45485783.24528301, 'PARENTING': 48096384.93793105, 'NEWS_AND_MAGAZINES': 846439179.3806437, 'LIBRARIES_AND_DEMO': 56596971.06506023, 'FAMILY': 327581690.90788025, 'AUTO_AND_VEHICLES': 57378251.305365786, 'HEALTH_AND_FITNESS': 371297180.7812429, 'SOCIAL': 2061203724.547787, 'VIDEO_PLAYERS': 2191878614.2188697, 'COMICS': 72477140.6545454, 'MAPS_AND_NAVIGATION': 359607318.864516}\n"
     ]
    }
   ],
   "source": [
    "print('Android Category => ',len(android_free_apps))\n",
    "android_freq_by_category = freq_table(android_free_apps, 1)\n",
    "#print(android_freq_table1)\n",
    "\n",
    "android_user_ratings_by_genre = {}\n",
    "for app in android_free_apps:\n",
    "    category = app[1]\n",
    "    rating_count_tot = float(app[5].replace(',','').replace('+',''))\n",
    "    if category in android_user_ratings_by_genre:\n",
    "        android_user_ratings_by_genre[category] += rating_count_tot/android_freq_by_category[category]\n",
    "    else:\n",
    "        android_user_ratings_by_genre[category] = rating_count_tot/android_freq_by_category[category]\n",
    "\n",
    "\n",
    "print(sort_dictionary(android_user_ratings_by_genre))"
   ]
  }
 ],
 "metadata": {
  "kernelspec": {
   "display_name": "Python 3",
   "language": "python",
   "name": "python3"
  },
  "language_info": {
   "codemirror_mode": {
    "name": "ipython",
    "version": 3
   },
   "file_extension": ".py",
   "mimetype": "text/x-python",
   "name": "python",
   "nbconvert_exporter": "python",
   "pygments_lexer": "ipython3",
   "version": "3.4.3"
  }
 },
 "nbformat": 4,
 "nbformat_minor": 2
}
